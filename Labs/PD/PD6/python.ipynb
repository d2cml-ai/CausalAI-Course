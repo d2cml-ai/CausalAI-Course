{
 "cells": [
  {
   "cell_type": "markdown",
   "metadata": {
    "id": "Z4jKiGPB__ke",
    "papermill": {
     "duration": 0.011184,
     "end_time": "2021-02-28T17:17:25.882205",
     "exception": false,
     "start_time": "2021-02-28T17:17:25.871021",
     "status": "completed"
    },
    "tags": []
   },
   "source": [
    "# Application: Heterogeneous Effect of Sex on Wage Using Double Lasso\n",
    "\n",
    "We use US census data from the year 2015 to analyse the effect of gender and interaction effects of other variables with gender on wage jointly. The dependent variable is the logarithm of the wage, the target variable is *female* (in combination with other variables). All other variables denote some other socio-economic characteristics, e.g. marital status, education, and experience.  \n",
    "\n",
    "\n",
    "\n",
    "This analysis allows a closer look how the gender wage gap is related to other socio-economic variables.\n"
   ]
  },
  {
   "cell_type": "code",
   "execution_count": 1,
   "metadata": {
    "id": "hfOxxCgf__kc"
   },
   "outputs": [],
   "source": [
    "# Import relevant packages\n",
    "import pandas as pd\n",
    "import numpy as np\n",
    "from scipy.stats import norm\n",
    "from sklearn.linear_model import LinearRegression\n",
    "import patsy\n",
    "import warnings\n",
    "warnings.simplefilter('ignore')\n",
    "np.random.seed(1234)"
   ]
  },
  {
   "cell_type": "code",
   "execution_count": 2,
   "metadata": {
    "id": "mn-ywPJb__kf"
   },
   "outputs": [],
   "source": [
    "file = \"https://raw.githubusercontent.com/CausalAIBook/MetricsMLNotebooks/main/data/wage2015_subsample_inference.csv\"\n",
    "data = pd.read_csv(file)"
   ]
  },
  {
   "cell_type": "code",
   "execution_count": 3,
   "metadata": {
    "colab": {
     "base_uri": "https://localhost:8080/",
     "height": 320
    },
    "id": "JjAg9We1__kf",
    "outputId": "be47eb27-b37b-40a9-c2fb-f727093bf639"
   },
   "outputs": [
    {
     "data": {
      "text/html": [
       "<div>\n",
       "<style scoped>\n",
       "    .dataframe tbody tr th:only-of-type {\n",
       "        vertical-align: middle;\n",
       "    }\n",
       "\n",
       "    .dataframe tbody tr th {\n",
       "        vertical-align: top;\n",
       "    }\n",
       "\n",
       "    .dataframe thead th {\n",
       "        text-align: right;\n",
       "    }\n",
       "</style>\n",
       "<table border=\"1\" class=\"dataframe\">\n",
       "  <thead>\n",
       "    <tr style=\"text-align: right;\">\n",
       "      <th></th>\n",
       "      <th>wage</th>\n",
       "      <th>lwage</th>\n",
       "      <th>sex</th>\n",
       "      <th>shs</th>\n",
       "      <th>hsg</th>\n",
       "      <th>scl</th>\n",
       "      <th>clg</th>\n",
       "      <th>ad</th>\n",
       "      <th>mw</th>\n",
       "      <th>so</th>\n",
       "      <th>we</th>\n",
       "      <th>ne</th>\n",
       "      <th>exp1</th>\n",
       "      <th>exp2</th>\n",
       "      <th>exp3</th>\n",
       "      <th>exp4</th>\n",
       "      <th>occ</th>\n",
       "      <th>occ2</th>\n",
       "      <th>ind</th>\n",
       "      <th>ind2</th>\n",
       "    </tr>\n",
       "  </thead>\n",
       "  <tbody>\n",
       "    <tr>\n",
       "      <th>count</th>\n",
       "      <td>5150.000000</td>\n",
       "      <td>5150.000000</td>\n",
       "      <td>5150.000000</td>\n",
       "      <td>5150.000000</td>\n",
       "      <td>5150.000000</td>\n",
       "      <td>5150.000000</td>\n",
       "      <td>5150.000000</td>\n",
       "      <td>5150.000000</td>\n",
       "      <td>5150.000000</td>\n",
       "      <td>5150.000000</td>\n",
       "      <td>5150.000000</td>\n",
       "      <td>5150.000000</td>\n",
       "      <td>5150.000000</td>\n",
       "      <td>5150.000000</td>\n",
       "      <td>5150.000000</td>\n",
       "      <td>5150.000000</td>\n",
       "      <td>5150.000000</td>\n",
       "      <td>5150.000000</td>\n",
       "      <td>5150.000000</td>\n",
       "      <td>5150.000000</td>\n",
       "    </tr>\n",
       "    <tr>\n",
       "      <th>mean</th>\n",
       "      <td>23.410410</td>\n",
       "      <td>2.970787</td>\n",
       "      <td>0.444466</td>\n",
       "      <td>0.023301</td>\n",
       "      <td>0.243883</td>\n",
       "      <td>0.278058</td>\n",
       "      <td>0.317670</td>\n",
       "      <td>0.137087</td>\n",
       "      <td>0.259612</td>\n",
       "      <td>0.296505</td>\n",
       "      <td>0.216117</td>\n",
       "      <td>0.227767</td>\n",
       "      <td>13.760583</td>\n",
       "      <td>3.018925</td>\n",
       "      <td>8.235867</td>\n",
       "      <td>25.118038</td>\n",
       "      <td>5310.737476</td>\n",
       "      <td>11.670874</td>\n",
       "      <td>6629.154951</td>\n",
       "      <td>13.316893</td>\n",
       "    </tr>\n",
       "    <tr>\n",
       "      <th>std</th>\n",
       "      <td>21.003016</td>\n",
       "      <td>0.570385</td>\n",
       "      <td>0.496955</td>\n",
       "      <td>0.150872</td>\n",
       "      <td>0.429465</td>\n",
       "      <td>0.448086</td>\n",
       "      <td>0.465616</td>\n",
       "      <td>0.343973</td>\n",
       "      <td>0.438464</td>\n",
       "      <td>0.456761</td>\n",
       "      <td>0.411635</td>\n",
       "      <td>0.419432</td>\n",
       "      <td>10.609465</td>\n",
       "      <td>4.000904</td>\n",
       "      <td>14.488962</td>\n",
       "      <td>53.530225</td>\n",
       "      <td>11874.356080</td>\n",
       "      <td>6.966684</td>\n",
       "      <td>5333.443992</td>\n",
       "      <td>5.701019</td>\n",
       "    </tr>\n",
       "    <tr>\n",
       "      <th>min</th>\n",
       "      <td>3.021978</td>\n",
       "      <td>1.105912</td>\n",
       "      <td>0.000000</td>\n",
       "      <td>0.000000</td>\n",
       "      <td>0.000000</td>\n",
       "      <td>0.000000</td>\n",
       "      <td>0.000000</td>\n",
       "      <td>0.000000</td>\n",
       "      <td>0.000000</td>\n",
       "      <td>0.000000</td>\n",
       "      <td>0.000000</td>\n",
       "      <td>0.000000</td>\n",
       "      <td>0.000000</td>\n",
       "      <td>0.000000</td>\n",
       "      <td>0.000000</td>\n",
       "      <td>0.000000</td>\n",
       "      <td>10.000000</td>\n",
       "      <td>1.000000</td>\n",
       "      <td>370.000000</td>\n",
       "      <td>2.000000</td>\n",
       "    </tr>\n",
       "    <tr>\n",
       "      <th>25%</th>\n",
       "      <td>13.461538</td>\n",
       "      <td>2.599837</td>\n",
       "      <td>0.000000</td>\n",
       "      <td>0.000000</td>\n",
       "      <td>0.000000</td>\n",
       "      <td>0.000000</td>\n",
       "      <td>0.000000</td>\n",
       "      <td>0.000000</td>\n",
       "      <td>0.000000</td>\n",
       "      <td>0.000000</td>\n",
       "      <td>0.000000</td>\n",
       "      <td>0.000000</td>\n",
       "      <td>5.000000</td>\n",
       "      <td>0.250000</td>\n",
       "      <td>0.125000</td>\n",
       "      <td>0.062500</td>\n",
       "      <td>1740.000000</td>\n",
       "      <td>5.000000</td>\n",
       "      <td>4880.000000</td>\n",
       "      <td>9.000000</td>\n",
       "    </tr>\n",
       "    <tr>\n",
       "      <th>50%</th>\n",
       "      <td>19.230769</td>\n",
       "      <td>2.956512</td>\n",
       "      <td>0.000000</td>\n",
       "      <td>0.000000</td>\n",
       "      <td>0.000000</td>\n",
       "      <td>0.000000</td>\n",
       "      <td>0.000000</td>\n",
       "      <td>0.000000</td>\n",
       "      <td>0.000000</td>\n",
       "      <td>0.000000</td>\n",
       "      <td>0.000000</td>\n",
       "      <td>0.000000</td>\n",
       "      <td>10.000000</td>\n",
       "      <td>1.000000</td>\n",
       "      <td>1.000000</td>\n",
       "      <td>1.000000</td>\n",
       "      <td>4040.000000</td>\n",
       "      <td>13.000000</td>\n",
       "      <td>7370.000000</td>\n",
       "      <td>14.000000</td>\n",
       "    </tr>\n",
       "    <tr>\n",
       "      <th>75%</th>\n",
       "      <td>27.777778</td>\n",
       "      <td>3.324236</td>\n",
       "      <td>1.000000</td>\n",
       "      <td>0.000000</td>\n",
       "      <td>0.000000</td>\n",
       "      <td>1.000000</td>\n",
       "      <td>1.000000</td>\n",
       "      <td>0.000000</td>\n",
       "      <td>1.000000</td>\n",
       "      <td>1.000000</td>\n",
       "      <td>0.000000</td>\n",
       "      <td>0.000000</td>\n",
       "      <td>21.000000</td>\n",
       "      <td>4.410000</td>\n",
       "      <td>9.261000</td>\n",
       "      <td>19.448100</td>\n",
       "      <td>5610.000000</td>\n",
       "      <td>17.000000</td>\n",
       "      <td>8190.000000</td>\n",
       "      <td>18.000000</td>\n",
       "    </tr>\n",
       "    <tr>\n",
       "      <th>max</th>\n",
       "      <td>528.845673</td>\n",
       "      <td>6.270697</td>\n",
       "      <td>1.000000</td>\n",
       "      <td>1.000000</td>\n",
       "      <td>1.000000</td>\n",
       "      <td>1.000000</td>\n",
       "      <td>1.000000</td>\n",
       "      <td>1.000000</td>\n",
       "      <td>1.000000</td>\n",
       "      <td>1.000000</td>\n",
       "      <td>1.000000</td>\n",
       "      <td>1.000000</td>\n",
       "      <td>47.000000</td>\n",
       "      <td>22.090000</td>\n",
       "      <td>103.823000</td>\n",
       "      <td>487.968100</td>\n",
       "      <td>100000.000000</td>\n",
       "      <td>22.000000</td>\n",
       "      <td>100000.000000</td>\n",
       "      <td>22.000000</td>\n",
       "    </tr>\n",
       "  </tbody>\n",
       "</table>\n",
       "</div>"
      ],
      "text/plain": [
       "              wage        lwage          sex          shs          hsg  \\\n",
       "count  5150.000000  5150.000000  5150.000000  5150.000000  5150.000000   \n",
       "mean     23.410410     2.970787     0.444466     0.023301     0.243883   \n",
       "std      21.003016     0.570385     0.496955     0.150872     0.429465   \n",
       "min       3.021978     1.105912     0.000000     0.000000     0.000000   \n",
       "25%      13.461538     2.599837     0.000000     0.000000     0.000000   \n",
       "50%      19.230769     2.956512     0.000000     0.000000     0.000000   \n",
       "75%      27.777778     3.324236     1.000000     0.000000     0.000000   \n",
       "max     528.845673     6.270697     1.000000     1.000000     1.000000   \n",
       "\n",
       "               scl          clg           ad           mw           so  \\\n",
       "count  5150.000000  5150.000000  5150.000000  5150.000000  5150.000000   \n",
       "mean      0.278058     0.317670     0.137087     0.259612     0.296505   \n",
       "std       0.448086     0.465616     0.343973     0.438464     0.456761   \n",
       "min       0.000000     0.000000     0.000000     0.000000     0.000000   \n",
       "25%       0.000000     0.000000     0.000000     0.000000     0.000000   \n",
       "50%       0.000000     0.000000     0.000000     0.000000     0.000000   \n",
       "75%       1.000000     1.000000     0.000000     1.000000     1.000000   \n",
       "max       1.000000     1.000000     1.000000     1.000000     1.000000   \n",
       "\n",
       "                we           ne         exp1         exp2         exp3  \\\n",
       "count  5150.000000  5150.000000  5150.000000  5150.000000  5150.000000   \n",
       "mean      0.216117     0.227767    13.760583     3.018925     8.235867   \n",
       "std       0.411635     0.419432    10.609465     4.000904    14.488962   \n",
       "min       0.000000     0.000000     0.000000     0.000000     0.000000   \n",
       "25%       0.000000     0.000000     5.000000     0.250000     0.125000   \n",
       "50%       0.000000     0.000000    10.000000     1.000000     1.000000   \n",
       "75%       0.000000     0.000000    21.000000     4.410000     9.261000   \n",
       "max       1.000000     1.000000    47.000000    22.090000   103.823000   \n",
       "\n",
       "              exp4            occ         occ2            ind         ind2  \n",
       "count  5150.000000    5150.000000  5150.000000    5150.000000  5150.000000  \n",
       "mean     25.118038    5310.737476    11.670874    6629.154951    13.316893  \n",
       "std      53.530225   11874.356080     6.966684    5333.443992     5.701019  \n",
       "min       0.000000      10.000000     1.000000     370.000000     2.000000  \n",
       "25%       0.062500    1740.000000     5.000000    4880.000000     9.000000  \n",
       "50%       1.000000    4040.000000    13.000000    7370.000000    14.000000  \n",
       "75%      19.448100    5610.000000    17.000000    8190.000000    18.000000  \n",
       "max     487.968100  100000.000000    22.000000  100000.000000    22.000000  "
      ]
     },
     "execution_count": 3,
     "metadata": {},
     "output_type": "execute_result"
    }
   ],
   "source": [
    "data.describe() "
   ]
  },
  {
   "cell_type": "markdown",
   "metadata": {
    "id": "kvlmaeFU__kf"
   },
   "source": [
    "Define outcome and regressors"
   ]
  },
  {
   "cell_type": "code",
   "execution_count": 4,
   "metadata": {
    "colab": {
     "base_uri": "https://localhost:8080/"
    },
    "id": "FheFuCL1__kg",
    "outputId": "42d59c9e-f48e-47de-aa67-917c8d7ec815"
   },
   "outputs": [
    {
     "data": {
      "text/plain": [
       "Index(['sex', 'shs', 'hsg', 'scl', 'clg', 'ad', 'mw', 'so', 'we', 'ne', 'exp1',\n",
       "       'exp2', 'exp3', 'exp4', 'occ', 'occ2', 'ind', 'ind2'],\n",
       "      dtype='object')"
      ]
     },
     "execution_count": 4,
     "metadata": {},
     "output_type": "execute_result"
    }
   ],
   "source": [
    "y = np.log(data['wage']).values\n",
    "Z = data.drop(['wage', 'lwage'], axis=1)\n",
    "Z.columns"
   ]
  },
  {
   "cell_type": "markdown",
   "metadata": {
    "id": "g2vGrvdJ__kg"
   },
   "source": [
    "## Feature Engineering"
   ]
  },
  {
   "cell_type": "markdown",
   "metadata": {
    "id": "JxlhqsDs__kg"
   },
   "source": [
    "Construct all our control variables"
   ]
  },
  {
   "cell_type": "code",
   "execution_count": 5,
   "metadata": {
    "id": "tjA6vrOf__kg"
   },
   "outputs": [],
   "source": [
    "# Ultra flexible controls of all pair-wise interactions (around 1k variables); un-comment to run this\n",
    "Zcontrols = patsy.dmatrix('0 + (shs+hsg+scl+clg+C(occ2)+C(ind2)+mw+so+we+exp1+exp2+exp3+exp4)**2',\n",
    "                          Z, return_type='dataframe')\n",
    "\n",
    "Zcontrols = Zcontrols - Zcontrols.mean(axis=0)"
   ]
  },
  {
   "cell_type": "markdown",
   "metadata": {
    "id": "hD36OSyb__kg"
   },
   "source": [
    "Construct all the variables that we will use to model heterogeneity of effect in a linear manner"
   ]
  },
  {
   "cell_type": "code",
   "execution_count": 6,
   "metadata": {
    "id": "DNPlH_rs__kh"
   },
   "outputs": [],
   "source": [
    "Zhet = patsy.dmatrix('0 + (shs+hsg+scl+clg+mw+so+we+exp1+exp2+exp3+exp4)',\n",
    "                     Z, return_type='dataframe')\n",
    "Zhet = Zhet - Zhet.mean(axis=0)"
   ]
  },
  {
   "cell_type": "markdown",
   "metadata": {
    "id": "woskUlaj__kh"
   },
   "source": [
    "Construct all interaction variables between sex and heterogeneity variables"
   ]
  },
  {
   "cell_type": "code",
   "execution_count": 7,
   "metadata": {
    "id": "kNsQotu6__kh"
   },
   "outputs": [],
   "source": [
    "Zhet['sex'] = Z['sex']\n",
    "Zinteractions = patsy.dmatrix('0 + sex + sex * (shs+hsg+scl+clg+mw+so+we+exp1+exp2+exp3+exp4)',\n",
    "                              Zhet, return_type='dataframe')\n",
    "interaction_cols = [c for c in Zinteractions.columns if c.startswith('sex')]"
   ]
  },
  {
   "cell_type": "markdown",
   "metadata": {
    "id": "-iMb_R87__ki"
   },
   "source": [
    "Put all the variables together"
   ]
  },
  {
   "cell_type": "code",
   "execution_count": 8,
   "metadata": {
    "colab": {
     "base_uri": "https://localhost:8080/"
    },
    "id": "bzFOlDdw__ki",
    "outputId": "cf5fdc12-0d66-498f-cfad-2d308c7c4821"
   },
   "outputs": [
    {
     "data": {
      "text/plain": [
       "(5150, 1002)"
      ]
     },
     "execution_count": 8,
     "metadata": {},
     "output_type": "execute_result"
    }
   ],
   "source": [
    "X = pd.concat([Zinteractions, Zcontrols], axis=1)\n",
    "X.shape"
   ]
  },
  {
   "cell_type": "markdown",
   "metadata": {
    "id": "dJDCw_Zc__ki"
   },
   "source": [
    "## Double Lasso for All Interactive Effects"
   ]
  },
  {
   "cell_type": "markdown",
   "metadata": {
    "id": "vQvJnv-v__ki"
   },
   "source": [
    "We use \"plug-in\" tuning with a theoretically valid choice of penalty $\\lambda = 2 \\cdot c \\hat{\\sigma}\\sqrt{n}  \\Phi^{-1}(1-\\alpha/2p)$, where $c>1$ and $1-\\alpha$ is a confidence level, and $\\Phi^{-1}$ denotes the quantile function. This choice ensures that the Lasso predictor is well behaved under independence as long as appropriate penalty weights are used.\n",
    "\n",
    "In practice, many people choose to use cross-validation, which is perfectly fine for predictive tasks. However, when conducting inference, to make our analysis valid we will require cross-fitting in addition to cross-validation. As we have not yet discussed cross-fitting, we rely on this theoretically-driven penalty in order to allow for accurate inference in the upcoming notebooks.\n",
    "\n",
    "Note: In the book, we multiply by $\\sqrt{n}$. This is because there, Lasso minimizes the sum of errors. If you were using say sklearn's Lasso whose objective minimizes the average errors, you would instead divide by $\\sqrt{n}$."
   ]
  },
  {
   "cell_type": "markdown",
   "metadata": {
    "id": "6eV_tNex__km"
   },
   "source": [
    "To estimate lasso using the theoretically motivated penalty level, we just use the hdmpy package. To install it run\n",
    "```\n",
    "!pip install multiprocess\n",
    "!git clone https://github.com/maxhuppertz/hdmpy.git\n",
    "```\n",
    "\n",
    "You can run the cells below and then repeat the whole analysis above using the newly defined `lasso_model` variable."
   ]
  },
  {
   "cell_type": "code",
   "execution_count": 10,
   "metadata": {
    "colab": {
     "base_uri": "https://localhost:8080/"
    },
    "id": "M9ihHr7DodEA",
    "outputId": "7c2bb631-8bb1-4abf-874d-8d635130a27f"
   },
   "outputs": [
    {
     "name": "stdout",
     "output_type": "stream",
     "text": [
      "Requirement already satisfied: multiprocess in c:\\programdata\\anaconda3\\envs\\causalml\\lib\\site-packages (0.70.15)\n",
      "Requirement already satisfied: dill>=0.3.7 in c:\\programdata\\anaconda3\\envs\\causalml\\lib\\site-packages (from multiprocess) (0.3.8)\n"
     ]
    }
   ],
   "source": [
    "!pip install multiprocess\n",
    "#!git clone https://github.com/maxhuppertz/hdmpy.git"
   ]
  },
  {
   "cell_type": "code",
   "execution_count": 11,
   "metadata": {
    "id": "acQhFTC0__km"
   },
   "outputs": [],
   "source": [
    "import sys\n",
    "sys.path.insert(1, \"./hdmpy\")"
   ]
  },
  {
   "cell_type": "code",
   "execution_count": 12,
   "metadata": {
    "id": "awA9uVQc__km"
   },
   "outputs": [],
   "source": [
    "# We wrap the package so that it has the familiar sklearn API\n",
    "import hdmpy\n",
    "from sklearn.base import BaseEstimator\n",
    "\n",
    "\n",
    "class RLasso(BaseEstimator):\n",
    "\n",
    "    def __init__(self, *, post=True):\n",
    "        self.post = post\n",
    "\n",
    "    def fit(self, X, y):\n",
    "        self.rlasso_ = hdmpy.rlasso(X, y, post=self.post)\n",
    "        return self\n",
    "\n",
    "    def predict(self, X):\n",
    "        return np.array(X) @ np.array(self.rlasso_.est['beta']).flatten() + np.array(self.rlasso_.est['intercept'])\n",
    "\n",
    "\n",
    "def lasso_model():\n",
    "    return RLasso(post=False)"
   ]
  },
  {
   "cell_type": "code",
   "execution_count": 13,
   "metadata": {
    "colab": {
     "base_uri": "https://localhost:8080/"
    },
    "id": "OBmzPIRZ__ks",
    "outputId": "2491d0d6-8c84-4eeb-b83a-83b0ff5b59fc"
   },
   "outputs": [
    {
     "name": "stdout",
     "output_type": "stream",
     "text": [
      "Double Lasso for target variable sex\n",
      "Double Lasso for target variable sex:shs\n",
      "Double Lasso for target variable sex:hsg\n",
      "Double Lasso for target variable sex:scl\n",
      "Double Lasso for target variable sex:clg\n",
      "Double Lasso for target variable sex:mw\n",
      "Double Lasso for target variable sex:so\n",
      "Double Lasso for target variable sex:we\n",
      "Double Lasso for target variable sex:exp1\n",
      "Double Lasso for target variable sex:exp2\n",
      "Double Lasso for target variable sex:exp3\n",
      "Double Lasso for target variable sex:exp4\n"
     ]
    },
    {
     "data": {
      "text/html": [
       "<div>\n",
       "<style scoped>\n",
       "    .dataframe tbody tr th:only-of-type {\n",
       "        vertical-align: middle;\n",
       "    }\n",
       "\n",
       "    .dataframe tbody tr th {\n",
       "        vertical-align: top;\n",
       "    }\n",
       "\n",
       "    .dataframe thead th {\n",
       "        text-align: right;\n",
       "    }\n",
       "</style>\n",
       "<table border=\"1\" class=\"dataframe\">\n",
       "  <thead>\n",
       "    <tr style=\"text-align: right;\">\n",
       "      <th></th>\n",
       "      <th>Estimate</th>\n",
       "      <th>Std. Error</th>\n",
       "      <th>p-value</th>\n",
       "      <th>ci_lower</th>\n",
       "      <th>ci_upper</th>\n",
       "    </tr>\n",
       "  </thead>\n",
       "  <tbody>\n",
       "    <tr>\n",
       "      <th>sex</th>\n",
       "      <td>-0.067859</td>\n",
       "      <td>0.015321</td>\n",
       "      <td>0.000009</td>\n",
       "      <td>-0.097889</td>\n",
       "      <td>-0.037829</td>\n",
       "    </tr>\n",
       "    <tr>\n",
       "      <th>sex:shs</th>\n",
       "      <td>-0.197714</td>\n",
       "      <td>0.113114</td>\n",
       "      <td>0.080477</td>\n",
       "      <td>-0.419417</td>\n",
       "      <td>0.023989</td>\n",
       "    </tr>\n",
       "    <tr>\n",
       "      <th>sex:hsg</th>\n",
       "      <td>0.012411</td>\n",
       "      <td>0.050681</td>\n",
       "      <td>0.806545</td>\n",
       "      <td>-0.086923</td>\n",
       "      <td>0.111745</td>\n",
       "    </tr>\n",
       "    <tr>\n",
       "      <th>sex:scl</th>\n",
       "      <td>0.021593</td>\n",
       "      <td>0.049600</td>\n",
       "      <td>0.663311</td>\n",
       "      <td>-0.075622</td>\n",
       "      <td>0.118809</td>\n",
       "    </tr>\n",
       "    <tr>\n",
       "      <th>sex:clg</th>\n",
       "      <td>0.061750</td>\n",
       "      <td>0.046871</td>\n",
       "      <td>0.187692</td>\n",
       "      <td>-0.030118</td>\n",
       "      <td>0.153617</td>\n",
       "    </tr>\n",
       "    <tr>\n",
       "      <th>sex:mw</th>\n",
       "      <td>-0.108562</td>\n",
       "      <td>0.041151</td>\n",
       "      <td>0.008336</td>\n",
       "      <td>-0.189217</td>\n",
       "      <td>-0.027907</td>\n",
       "    </tr>\n",
       "    <tr>\n",
       "      <th>sex:so</th>\n",
       "      <td>-0.072678</td>\n",
       "      <td>0.039383</td>\n",
       "      <td>0.064979</td>\n",
       "      <td>-0.149869</td>\n",
       "      <td>0.004513</td>\n",
       "    </tr>\n",
       "    <tr>\n",
       "      <th>sex:we</th>\n",
       "      <td>-0.050941</td>\n",
       "      <td>0.042267</td>\n",
       "      <td>0.228113</td>\n",
       "      <td>-0.133784</td>\n",
       "      <td>0.031901</td>\n",
       "    </tr>\n",
       "    <tr>\n",
       "      <th>sex:exp1</th>\n",
       "      <td>0.018110</td>\n",
       "      <td>0.006726</td>\n",
       "      <td>0.007087</td>\n",
       "      <td>0.004928</td>\n",
       "      <td>0.031292</td>\n",
       "    </tr>\n",
       "    <tr>\n",
       "      <th>sex:exp2</th>\n",
       "      <td>0.023545</td>\n",
       "      <td>0.048364</td>\n",
       "      <td>0.626381</td>\n",
       "      <td>-0.071248</td>\n",
       "      <td>0.118338</td>\n",
       "    </tr>\n",
       "    <tr>\n",
       "      <th>sex:exp3</th>\n",
       "      <td>-0.054754</td>\n",
       "      <td>0.037179</td>\n",
       "      <td>0.140822</td>\n",
       "      <td>-0.127624</td>\n",
       "      <td>0.018116</td>\n",
       "    </tr>\n",
       "    <tr>\n",
       "      <th>sex:exp4</th>\n",
       "      <td>-0.007312</td>\n",
       "      <td>0.001671</td>\n",
       "      <td>0.000012</td>\n",
       "      <td>-0.010587</td>\n",
       "      <td>-0.004037</td>\n",
       "    </tr>\n",
       "  </tbody>\n",
       "</table>\n",
       "</div>"
      ],
      "text/plain": [
       "          Estimate  Std. Error   p-value  ci_lower  ci_upper\n",
       "sex      -0.067859    0.015321  0.000009 -0.097889 -0.037829\n",
       "sex:shs  -0.197714    0.113114  0.080477 -0.419417  0.023989\n",
       "sex:hsg   0.012411    0.050681  0.806545 -0.086923  0.111745\n",
       "sex:scl   0.021593    0.049600  0.663311 -0.075622  0.118809\n",
       "sex:clg   0.061750    0.046871  0.187692 -0.030118  0.153617\n",
       "sex:mw   -0.108562    0.041151  0.008336 -0.189217 -0.027907\n",
       "sex:so   -0.072678    0.039383  0.064979 -0.149869  0.004513\n",
       "sex:we   -0.050941    0.042267  0.228113 -0.133784  0.031901\n",
       "sex:exp1  0.018110    0.006726  0.007087  0.004928  0.031292\n",
       "sex:exp2  0.023545    0.048364  0.626381 -0.071248  0.118338\n",
       "sex:exp3 -0.054754    0.037179  0.140822 -0.127624  0.018116\n",
       "sex:exp4 -0.007312    0.001671  0.000012 -0.010587 -0.004037"
      ]
     },
     "execution_count": 13,
     "metadata": {},
     "output_type": "execute_result"
    }
   ],
   "source": [
    "alpha = {}\n",
    "res_y, res_D, epsilon = {}, {}, {}\n",
    "for c in interaction_cols:\n",
    "    print(f\"Double Lasso for target variable {c}\")\n",
    "    D = X[c].values\n",
    "    W = X.drop([c], axis=1)\n",
    "    res_y[c] = y - lasso_model().fit(W, y).predict(W)\n",
    "    res_D[c] = D - lasso_model().fit(W, D).predict(W)\n",
    "    final = LinearRegression(fit_intercept=False).fit(res_D[c].reshape(-1, 1), res_y[c])\n",
    "    epsilon[c] = res_y[c] - final.predict(res_D[c].reshape(-1, 1))\n",
    "    alpha[c] = [final.coef_[0]]\n",
    "\n",
    "# Calculate the covariance matrix of the estimated parameters\n",
    "V = np.zeros((len(interaction_cols), len(interaction_cols)))\n",
    "for it, c in enumerate(interaction_cols):\n",
    "    Jc = np.mean(res_D[c]**2)\n",
    "    for itp, cp in enumerate(interaction_cols):\n",
    "        Jcp = np.mean(res_D[cp]**2)\n",
    "        Sigma = np.mean(res_D[c] * epsilon[c] * epsilon[cp] * res_D[cp])\n",
    "        V[it, itp] = Sigma / (Jc * Jcp)\n",
    "\n",
    "# Calculate standard errors for each parameter\n",
    "n = X.shape[0]\n",
    "for it, c in enumerate(interaction_cols):\n",
    "    alpha[c] += [np.sqrt(V[it, it] / n)]\n",
    "\n",
    "# put all in a dataframe\n",
    "df = pd.DataFrame.from_dict(alpha, orient='index', columns=['point', 'stderr'])\n",
    "\n",
    "# Calculate and pointwise p-value\n",
    "summary = pd.DataFrame()\n",
    "summary['Estimate'] = df['point']\n",
    "summary['Std. Error'] = df['stderr']\n",
    "summary['p-value'] = norm.sf(np.abs(df['point'] / df['stderr']), loc=0, scale=1) * 2\n",
    "summary['ci_lower'] = df['point'] - 1.96 * df['stderr']\n",
    "summary['ci_upper'] = df['point'] + 1.96 * df['stderr']\n",
    "summary"
   ]
  },
  {
   "cell_type": "markdown",
   "metadata": {
    "id": "DcW2A3JTMBiv"
   },
   "source": [
    "### Joint Confidence Intervals"
   ]
  },
  {
   "cell_type": "code",
   "execution_count": 14,
   "metadata": {
    "id": "IPClP_jTeZlr"
   },
   "outputs": [
    {
     "data": {
      "text/html": [
       "<div>\n",
       "<style scoped>\n",
       "    .dataframe tbody tr th:only-of-type {\n",
       "        vertical-align: middle;\n",
       "    }\n",
       "\n",
       "    .dataframe tbody tr th {\n",
       "        vertical-align: top;\n",
       "    }\n",
       "\n",
       "    .dataframe thead th {\n",
       "        text-align: right;\n",
       "    }\n",
       "</style>\n",
       "<table border=\"1\" class=\"dataframe\">\n",
       "  <thead>\n",
       "    <tr style=\"text-align: right;\">\n",
       "      <th></th>\n",
       "      <th>Estimate</th>\n",
       "      <th>CI lower</th>\n",
       "      <th>CI upper</th>\n",
       "    </tr>\n",
       "  </thead>\n",
       "  <tbody>\n",
       "    <tr>\n",
       "      <th>sex</th>\n",
       "      <td>-0.067859</td>\n",
       "      <td>-0.111136</td>\n",
       "      <td>-0.024581</td>\n",
       "    </tr>\n",
       "    <tr>\n",
       "      <th>sex:shs</th>\n",
       "      <td>-0.197714</td>\n",
       "      <td>-0.517220</td>\n",
       "      <td>0.121792</td>\n",
       "    </tr>\n",
       "    <tr>\n",
       "      <th>sex:hsg</th>\n",
       "      <td>0.012411</td>\n",
       "      <td>-0.130745</td>\n",
       "      <td>0.155567</td>\n",
       "    </tr>\n",
       "    <tr>\n",
       "      <th>sex:scl</th>\n",
       "      <td>0.021593</td>\n",
       "      <td>-0.118509</td>\n",
       "      <td>0.161695</td>\n",
       "    </tr>\n",
       "    <tr>\n",
       "      <th>sex:clg</th>\n",
       "      <td>0.061750</td>\n",
       "      <td>-0.070645</td>\n",
       "      <td>0.194144</td>\n",
       "    </tr>\n",
       "    <tr>\n",
       "      <th>sex:mw</th>\n",
       "      <td>-0.108562</td>\n",
       "      <td>-0.224798</td>\n",
       "      <td>0.007674</td>\n",
       "    </tr>\n",
       "    <tr>\n",
       "      <th>sex:so</th>\n",
       "      <td>-0.072678</td>\n",
       "      <td>-0.183922</td>\n",
       "      <td>0.038566</td>\n",
       "    </tr>\n",
       "    <tr>\n",
       "      <th>sex:we</th>\n",
       "      <td>-0.050941</td>\n",
       "      <td>-0.170330</td>\n",
       "      <td>0.068447</td>\n",
       "    </tr>\n",
       "    <tr>\n",
       "      <th>sex:exp1</th>\n",
       "      <td>0.018110</td>\n",
       "      <td>-0.000887</td>\n",
       "      <td>0.037108</td>\n",
       "    </tr>\n",
       "    <tr>\n",
       "      <th>sex:exp2</th>\n",
       "      <td>0.023545</td>\n",
       "      <td>-0.113066</td>\n",
       "      <td>0.160156</td>\n",
       "    </tr>\n",
       "    <tr>\n",
       "      <th>sex:exp3</th>\n",
       "      <td>-0.054754</td>\n",
       "      <td>-0.159771</td>\n",
       "      <td>0.050262</td>\n",
       "    </tr>\n",
       "    <tr>\n",
       "      <th>sex:exp4</th>\n",
       "      <td>-0.007312</td>\n",
       "      <td>-0.012032</td>\n",
       "      <td>-0.002593</td>\n",
       "    </tr>\n",
       "  </tbody>\n",
       "</table>\n",
       "</div>"
      ],
      "text/plain": [
       "          Estimate  CI lower  CI upper\n",
       "sex      -0.067859 -0.111136 -0.024581\n",
       "sex:shs  -0.197714 -0.517220  0.121792\n",
       "sex:hsg   0.012411 -0.130745  0.155567\n",
       "sex:scl   0.021593 -0.118509  0.161695\n",
       "sex:clg   0.061750 -0.070645  0.194144\n",
       "sex:mw   -0.108562 -0.224798  0.007674\n",
       "sex:so   -0.072678 -0.183922  0.038566\n",
       "sex:we   -0.050941 -0.170330  0.068447\n",
       "sex:exp1  0.018110 -0.000887  0.037108\n",
       "sex:exp2  0.023545 -0.113066  0.160156\n",
       "sex:exp3 -0.054754 -0.159771  0.050262\n",
       "sex:exp4 -0.007312 -0.012032 -0.002593"
      ]
     },
     "execution_count": 14,
     "metadata": {},
     "output_type": "execute_result"
    }
   ],
   "source": [
    "Drootinv = np.diagflat(1 / np.sqrt(np.diag(V)))\n",
    "scaledCov = Drootinv @ V @ Drootinv\n",
    "np.random.seed(123)\n",
    "U = np.random.multivariate_normal(np.zeros(scaledCov.shape[0]), scaledCov, size=10000)\n",
    "z = np.max(np.abs(U), axis=1)\n",
    "c = np.percentile(z, 95)\n",
    "\n",
    "summary = pd.DataFrame()\n",
    "summary['Estimate'] = df['point']\n",
    "summary['CI lower'] = df['point'] - c * df['stderr']\n",
    "summary['CI upper'] = df['point'] + c * df['stderr']\n",
    "summary"
   ]
  },
  {
   "cell_type": "code",
   "execution_count": null,
   "metadata": {},
   "outputs": [],
   "source": []
  }
 ],
 "metadata": {
  "colab": {
   "provenance": []
  },
  "kernelspec": {
   "display_name": "Python 3 (ipykernel)",
   "language": "python",
   "name": "python3"
  },
  "language_info": {
   "codemirror_mode": {
    "name": "ipython",
    "version": 3
   },
   "file_extension": ".py",
   "mimetype": "text/x-python",
   "name": "python",
   "nbconvert_exporter": "python",
   "pygments_lexer": "ipython3",
   "version": "3.11.13"
  },
  "papermill": {
   "default_parameters": {},
   "duration": 89.365707,
   "end_time": "2021-02-28T17:18:51.003711",
   "environment_variables": {},
   "exception": null,
   "input_path": "__notebook__.ipynb",
   "output_path": "__notebook__.ipynb",
   "parameters": {},
   "start_time": "2021-02-28T17:17:21.638004",
   "version": "2.2.2"
  }
 },
 "nbformat": 4,
 "nbformat_minor": 4
}
