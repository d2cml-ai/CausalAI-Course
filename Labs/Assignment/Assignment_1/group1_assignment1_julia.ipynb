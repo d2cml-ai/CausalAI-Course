{
  "cells": [
    {
      "cell_type": "markdown",
      "metadata": {},
      "source": [
        "### GROUP 1\n",
        "\n",
        "* DEL CARPIO CUENCA, GABRIEL SEBASTIAN\n",
        "* ESPINOSA CALDERON, MAURICIO GUSTAVO \n",
        "* JAIME MARTINEZ, KEVIN OSWALDO\n",
        "* MELLIZO ANTAZU, MILAGROS ESTEFANY\n",
        "* QUISPE ROBLADILLO, ALMENDRA VALERIA"
      ]
    },
    {
      "cell_type": "markdown",
      "metadata": {
        "id": "CakMUE0Nkbdk"
      },
      "source": [
        "**Replication 1: A Prediction problem: The Gender Wage Gap** **(JULIA)**"
      ]
    },
    {
      "cell_type": "markdown",
      "metadata": {
        "id": "rmN0CwNpkjKU"
      },
      "source": [
        "The data set we consider is from the March Supplement of the U.S. Current Population Survey, year 2015. The dataset's path in the repository is data/wage2015_subsample_inference.csv; it can also be loaded with this link. We select white non-hispanic individuals, aged 25 to 64 years, and working more than 35 hours per week during at least 50 weeks of the year.. We exclude self-employed workers; individuals living in group quarters; individuals in the military, agricultural or private household sectors; individuals with inconsistent reports on earnings and employment status; individuals with allocated or missing information in any of the variables used in the analysis; and individuals with hourly wage below 3.\n",
        "\n",
        "The variable of interest 𝑌 is the (log) hourly wage rate constructed as the ratio of the annual earnings to the total number of hours worked, which is constructed in turn as the product of number of weeks worked and the usual number of hours worked per week. In our analysis, we also focus on single (never married) workers. The final sample is of size\n",
        "n\n",
        "=\n",
        "5150\n"
      ]
    },
    {
      "cell_type": "markdown",
      "metadata": {
        "id": "Em6pOCXmkots"
      },
      "source": [
        "Primeros instalamos los paquetes de Julia. Habilitamos Julia como entorno de ejecución para correr código."
      ]
    },
    {
      "cell_type": "code",
      "execution_count": null,
      "metadata": {
        "colab": {
          "base_uri": "https://localhost:8080/"
        },
        "id": "kRWbcr8cFol8",
        "outputId": "b4636d54-6c96-4d36-ff55-576a6c36026a"
      },
      "outputs": [
        {
          "name": "stdout",
          "output_type": "stream",
          "text": [
            "Installing Julia 1.8.2 on the current Colab Runtime...\n",
            "2024-09-06 14:01:25 URL:https://storage.googleapis.com/julialang2/bin/linux/x64/1.8/julia-1.8.2-linux-x86_64.tar.gz [135859273/135859273] -> \"/tmp/julia.tar.gz\" [1]\n",
            "Installing Julia package IJulia...\n",
            "Installing Julia package BenchmarkTools...\n",
            "Installing IJulia kernel...\n",
            "\u001b[36m\u001b[1m[ \u001b[22m\u001b[39m\u001b[36m\u001b[1mInfo: \u001b[22m\u001b[39mInstalling julia kernelspec in /root/.local/share/jupyter/kernels/julia-1.8\n",
            "\n",
            "Successfully installed julia version 1.8.2!\n",
            "Please reload this page (press Ctrl+R, ⌘+R, or the F5 key) then\n",
            "jump to the 'Checking the Installation' section.\n"
          ]
        },
        {
          "data": {
            "text/plain": []
          },
          "execution_count": 3,
          "metadata": {},
          "output_type": "execute_result"
        }
      ],
      "source": [
        "%%shell\n",
        "set -e\n",
        "\n",
        "#---------------------------------------------------#\n",
        "JULIA_VERSION=\"1.8.2\" # any version ≥ 0.7.0\n",
        "JULIA_PACKAGES=\"IJulia BenchmarkTools\"\n",
        "JULIA_PACKAGES_IF_GPU=\"CUDA\" # or CuArrays for older Julia versions\n",
        "JULIA_NUM_THREADS=2\n",
        "#---------------------------------------------------#\n",
        "\n",
        "if [ -z `which julia` ]; then\n",
        "  # Install Julia\n",
        "  JULIA_VER=`cut -d '.' -f -2 <<< \"$JULIA_VERSION\"`\n",
        "  echo \"Installing Julia $JULIA_VERSION on the current Colab Runtime...\"\n",
        "  BASE_URL=\"https://julialang-s3.julialang.org/bin/linux/x64\"\n",
        "  URL=\"$BASE_URL/$JULIA_VER/julia-$JULIA_VERSION-linux-x86_64.tar.gz\"\n",
        "  wget -nv $URL -O /tmp/julia.tar.gz # -nv means \"not verbose\"\n",
        "  tar -x -f /tmp/julia.tar.gz -C /usr/local --strip-components 1\n",
        "  rm /tmp/julia.tar.gz\n",
        "\n",
        "  # Install Packages\n",
        "  nvidia-smi -L &> /dev/null && export GPU=1 || export GPU=0\n",
        "  if [ $GPU -eq 1 ]; then\n",
        "    JULIA_PACKAGES=\"$JULIA_PACKAGES $JULIA_PACKAGES_IF_GPU\"\n",
        "  fi\n",
        "  for PKG in `echo $JULIA_PACKAGES`; do\n",
        "    echo \"Installing Julia package $PKG...\"\n",
        "    julia -e 'using Pkg; pkg\"add '$PKG'; precompile;\"' &> /dev/null\n",
        "  done\n",
        "\n",
        "  # Install kernel and rename it to \"julia\"\n",
        "  echo \"Installing IJulia kernel...\"\n",
        "  julia -e 'using IJulia; IJulia.installkernel(\"julia\", env=Dict(\n",
        "      \"JULIA_NUM_THREADS\"=>\"'\"$JULIA_NUM_THREADS\"'\"))'\n",
        "  KERNEL_DIR=`julia -e \"using IJulia; print(IJulia.kerneldir())\"`\n",
        "  KERNEL_NAME=`ls -d \"$KERNEL_DIR\"/julia*`\n",
        "  mv -f $KERNEL_NAME \"$KERNEL_DIR\"/julia\n",
        "\n",
        "  echo ''\n",
        "  echo \"Successfully installed `julia -v`!\"\n",
        "  echo \"Please reload this page (press Ctrl+R, ⌘+R, or the F5 key) then\"\n",
        "  echo \"jump to the 'Checking the Installation' section.\"\n",
        "fi"
      ]
    },
    {
      "cell_type": "code",
      "execution_count": null,
      "metadata": {
        "colab": {
          "base_uri": "https://localhost:8080/"
        },
        "id": "EDeQsLUtGTGA",
        "outputId": "51f9f3af-4a45-4156-d930-49bd3d5fd7c3"
      },
      "outputs": [
        {
          "name": "stdout",
          "output_type": "stream",
          "text": [
            "Julia Version 1.8.2\n",
            "Commit 36034abf260 (2022-09-29 15:21 UTC)\n",
            "Platform Info:\n",
            "  OS: Linux (x86_64-linux-gnu)\n",
            "  CPU: 2 × Intel(R) Xeon(R) CPU @ 2.20GHz\n",
            "  WORD_SIZE: 64\n",
            "  LIBM: libopenlibm\n",
            "  LLVM: libLLVM-13.0.1 (ORCJIT, broadwell)\n",
            "  Threads: 2 on 2 virtual cores\n",
            "Environment:\n",
            "  LD_LIBRARY_PATH = /usr/local/nvidia/lib:/usr/local/nvidia/lib64\n",
            "  JULIA_NUM_THREADS = 2\n"
          ]
        }
      ],
      "source": [
        "versioninfo()"
      ]
    },
    {
      "cell_type": "code",
      "execution_count": null,
      "metadata": {
        "colab": {
          "base_uri": "https://localhost:8080/"
        },
        "id": "OnVbBualHQ-8",
        "outputId": "f3a8f8bc-426a-434d-b9c5-fb2e12c6081f"
      },
      "outputs": [
        {
          "name": "stderr",
          "output_type": "stream",
          "text": [
            "\u001b[32m\u001b[1m    Updating\u001b[22m\u001b[39m registry at `~/.julia/registries/General.toml`\n",
            "\u001b[32m\u001b[1m   Resolving\u001b[22m\u001b[39m package versions...\n",
            "\u001b[32m\u001b[1m   Installed\u001b[22m\u001b[39m JpegTurbo_jll ──────────────── v3.0.3+0\n",
            "\u001b[32m\u001b[1m   Installed\u001b[22m\u001b[39m GR_jll ─────────────────────── v0.73.7+0\n",
            "\u001b[32m\u001b[1m   Installed\u001b[22m\u001b[39m Libmount_jll ───────────────── v2.40.1+0\n",
            "\u001b[32m\u001b[1m   Installed\u001b[22m\u001b[39m libfdk_aac_jll ─────────────── v2.0.3+0\n",
            "\u001b[32m\u001b[1m   Installed\u001b[22m\u001b[39m LERC_jll ───────────────────── v3.0.0+1\n",
            "\u001b[32m\u001b[1m   Installed\u001b[22m\u001b[39m x265_jll ───────────────────── v3.5.0+0\n",
            "\u001b[32m\u001b[1m   Installed\u001b[22m\u001b[39m libdecor_jll ───────────────── v0.2.2+0\n",
            "\u001b[32m\u001b[1m   Installed\u001b[22m\u001b[39m LoggingExtras ──────────────── v1.0.3\n",
            "\u001b[32m\u001b[1m   Installed\u001b[22m\u001b[39m Opus_jll ───────────────────── v1.3.3+0\n",
            "\u001b[32m\u001b[1m   Installed\u001b[22m\u001b[39m Xorg_xkbcomp_jll ───────────── v1.4.6+0\n",
            "\u001b[32m\u001b[1m   Installed\u001b[22m\u001b[39m RelocatableFolders ─────────── v1.0.1\n",
            "\u001b[32m\u001b[1m   Installed\u001b[22m\u001b[39m Measures ───────────────────── v0.3.2\n",
            "\u001b[32m\u001b[1m   Installed\u001b[22m\u001b[39m Unitful ────────────────────── v1.21.0\n",
            "\u001b[32m\u001b[1m   Installed\u001b[22m\u001b[39m ConcurrentUtilities ────────── v2.4.2\n",
            "\u001b[32m\u001b[1m   Installed\u001b[22m\u001b[39m Contour ────────────────────── v0.6.3\n",
            "\u001b[32m\u001b[1m   Installed\u001b[22m\u001b[39m Grisu ──────────────────────── v1.0.2\n",
            "\u001b[32m\u001b[1m   Installed\u001b[22m\u001b[39m Xorg_xcb_util_wm_jll ───────── v0.4.1+1\n",
            "\u001b[32m\u001b[1m   Installed\u001b[22m\u001b[39m Xorg_xcb_util_image_jll ────── v0.4.0+1\n",
            "\u001b[32m\u001b[1m   Installed\u001b[22m\u001b[39m PlotUtils ──────────────────── v1.4.1\n",
            "\u001b[32m\u001b[1m   Installed\u001b[22m\u001b[39m RecipesPipeline ────────────── v0.6.12\n",
            "\u001b[32m\u001b[1m   Installed\u001b[22m\u001b[39m OpenSSL ────────────────────── v1.4.3\n",
            "\u001b[32m\u001b[1m   Installed\u001b[22m\u001b[39m Xorg_libpthread_stubs_jll ──── v0.1.1+0\n",
            "\u001b[32m\u001b[1m   Installed\u001b[22m\u001b[39m Xorg_libSM_jll ─────────────── v1.2.4+0\n",
            "\u001b[32m\u001b[1m   Installed\u001b[22m\u001b[39m Cairo_jll ──────────────────── v1.18.0+2\n",
            "\u001b[32m\u001b[1m   Installed\u001b[22m\u001b[39m HTTP ───────────────────────── v1.10.8\n",
            "\u001b[32m\u001b[1m   Installed\u001b[22m\u001b[39m Xorg_xcb_util_jll ──────────── v0.4.0+1\n",
            "\u001b[32m\u001b[1m   Installed\u001b[22m\u001b[39m Fontconfig_jll ─────────────── v2.13.96+0\n",
            "\u001b[32m\u001b[1m   Installed\u001b[22m\u001b[39m Libgpg_error_jll ───────────── v1.49.0+0\n",
            "\u001b[32m\u001b[1m   Installed\u001b[22m\u001b[39m Xorg_libxkbfile_jll ────────── v1.1.2+0\n",
            "\u001b[32m\u001b[1m   Installed\u001b[22m\u001b[39m Xorg_libXinerama_jll ───────── v1.1.4+4\n",
            "\u001b[32m\u001b[1m   Installed\u001b[22m\u001b[39m Xorg_libXau_jll ────────────── v1.0.11+0\n",
            "\u001b[32m\u001b[1m   Installed\u001b[22m\u001b[39m EpollShim_jll ──────────────── v0.0.20230411+0\n",
            "\u001b[32m\u001b[1m   Installed\u001b[22m\u001b[39m FFMPEG ─────────────────────── v0.4.1\n",
            "\u001b[32m\u001b[1m   Installed\u001b[22m\u001b[39m Missings ───────────────────── v1.2.0\n",
            "\u001b[32m\u001b[1m   Installed\u001b[22m\u001b[39m Showoff ────────────────────── v1.0.3\n",
            "\u001b[32m\u001b[1m   Installed\u001b[22m\u001b[39m Pango_jll ──────────────────── v1.54.1+0\n",
            "\u001b[32m\u001b[1m   Installed\u001b[22m\u001b[39m Xorg_xcb_util_keysyms_jll ──── v0.4.0+1\n",
            "\u001b[32m\u001b[1m   Installed\u001b[22m\u001b[39m xkbcommon_jll ──────────────── v1.4.1+1\n",
            "\u001b[32m\u001b[1m   Installed\u001b[22m\u001b[39m Bzip2_jll ──────────────────── v1.0.8+1\n",
            "\u001b[32m\u001b[1m   Installed\u001b[22m\u001b[39m IrrationalConstants ────────── v0.2.2\n",
            "\u001b[32m\u001b[1m   Installed\u001b[22m\u001b[39m Pipe ───────────────────────── v1.3.0\n",
            "\u001b[32m\u001b[1m   Installed\u001b[22m\u001b[39m SimpleBufferStream ─────────── v1.1.0\n",
            "\u001b[32m\u001b[1m   Installed\u001b[22m\u001b[39m XZ_jll ─────────────────────── v5.4.6+0\n",
            "\u001b[32m\u001b[1m   Installed\u001b[22m\u001b[39m HarfBuzz_jll ───────────────── v8.3.1+0\n",
            "\u001b[32m\u001b[1m   Installed\u001b[22m\u001b[39m PlotThemes ─────────────────── v3.2.0\n",
            "\u001b[32m\u001b[1m   Installed\u001b[22m\u001b[39m LZO_jll ────────────────────── v2.10.2+0\n",
            "\u001b[32m\u001b[1m   Installed\u001b[22m\u001b[39m NaNMath ────────────────────── v1.0.2\n",
            "\u001b[32m\u001b[1m   Installed\u001b[22m\u001b[39m TranscodingStreams ─────────── v0.11.2\n",
            "\u001b[32m\u001b[1m   Installed\u001b[22m\u001b[39m fzf_jll ────────────────────── v0.53.0+0\n",
            "\u001b[32m\u001b[1m   Installed\u001b[22m\u001b[39m FriBidi_jll ────────────────── v1.0.14+0\n",
            "\u001b[32m\u001b[1m   Installed\u001b[22m\u001b[39m x264_jll ───────────────────── v2021.5.5+0\n",
            "\u001b[32m\u001b[1m   Installed\u001b[22m\u001b[39m GLFW_jll ───────────────────── v3.4.0+1\n",
            "\u001b[32m\u001b[1m   Installed\u001b[22m\u001b[39m UnicodeFun ─────────────────── v0.4.1\n",
            "\u001b[32m\u001b[1m   Installed\u001b[22m\u001b[39m Colors ─────────────────────── v0.12.11\n",
            "\u001b[32m\u001b[1m   Installed\u001b[22m\u001b[39m FreeType2_jll ──────────────── v2.13.2+0\n",
            "\u001b[32m\u001b[1m   Installed\u001b[22m\u001b[39m StatsAPI ───────────────────── v1.7.0\n",
            "\u001b[32m\u001b[1m   Installed\u001b[22m\u001b[39m JLFzf ──────────────────────── v0.1.8\n",
            "\u001b[32m\u001b[1m   Installed\u001b[22m\u001b[39m CodecZlib ──────────────────── v0.7.6\n",
            "\u001b[32m\u001b[1m   Installed\u001b[22m\u001b[39m DataStructures ─────────────── v0.18.20\n",
            "\u001b[32m\u001b[1m   Installed\u001b[22m\u001b[39m Compat ─────────────────────── v4.16.0\n",
            "\u001b[32m\u001b[1m   Installed\u001b[22m\u001b[39m Xorg_libxcb_jll ────────────── v1.17.0+0\n",
            "\u001b[32m\u001b[1m   Installed\u001b[22m\u001b[39m libpng_jll ─────────────────── v1.6.43+1\n",
            "\u001b[32m\u001b[1m   Installed\u001b[22m\u001b[39m mtdev_jll ──────────────────── v1.1.6+0\n",
            "\u001b[32m\u001b[1m   Installed\u001b[22m\u001b[39m ExceptionUnwrapping ────────── v0.1.10\n",
            "\u001b[32m\u001b[1m   Installed\u001b[22m\u001b[39m libaom_jll ─────────────────── v3.9.0+0\n",
            "\u001b[32m\u001b[1m   Installed\u001b[22m\u001b[39m gperf_jll ──────────────────── v3.1.1+0\n",
            "\u001b[32m\u001b[1m   Installed\u001b[22m\u001b[39m Dbus_jll ───────────────────── v1.14.10+0\n",
            "\u001b[32m\u001b[1m   Installed\u001b[22m\u001b[39m Scratch ────────────────────── v1.2.1\n",
            "\u001b[32m\u001b[1m   Installed\u001b[22m\u001b[39m ColorTypes ─────────────────── v0.11.5\n",
            "\u001b[32m\u001b[1m   Installed\u001b[22m\u001b[39m ColorSchemes ───────────────── v3.26.0\n",
            "\u001b[32m\u001b[1m   Installed\u001b[22m\u001b[39m StatsBase ──────────────────── v0.34.3\n",
            "\u001b[32m\u001b[1m   Installed\u001b[22m\u001b[39m Plots ──────────────────────── v1.40.8\n",
            "\u001b[32m\u001b[1m   Installed\u001b[22m\u001b[39m GR ─────────────────────────── v0.73.7\n",
            "\u001b[32m\u001b[1m   Installed\u001b[22m\u001b[39m eudev_jll ──────────────────── v3.2.9+0\n",
            "\u001b[32m\u001b[1m   Installed\u001b[22m\u001b[39m Xorg_xcb_util_cursor_jll ───── v0.1.4+0\n",
            "\u001b[32m\u001b[1m   Installed\u001b[22m\u001b[39m Expat_jll ──────────────────── v2.6.2+0\n",
            "\u001b[32m\u001b[1m   Installed\u001b[22m\u001b[39m Zstd_jll ───────────────────── v1.5.6+0\n",
            "\u001b[32m\u001b[1m   Installed\u001b[22m\u001b[39m Xorg_libXext_jll ───────────── v1.3.6+0\n",
            "\u001b[32m\u001b[1m   Installed\u001b[22m\u001b[39m TensorCore ─────────────────── v0.1.1\n",
            "\u001b[32m\u001b[1m   Installed\u001b[22m\u001b[39m Libtiff_jll ────────────────── v4.5.1+1\n",
            "\u001b[32m\u001b[1m   Installed\u001b[22m\u001b[39m Format ─────────────────────── v1.3.7\n",
            "\u001b[32m\u001b[1m   Installed\u001b[22m\u001b[39m ConstructionBase ───────────── v1.5.8\n",
            "\u001b[32m\u001b[1m   Installed\u001b[22m\u001b[39m Libffi_jll ─────────────────── v3.2.2+1\n",
            "\u001b[32m\u001b[1m   Installed\u001b[22m\u001b[39m Xorg_libXrender_jll ────────── v0.9.11+0\n",
            "\u001b[32m\u001b[1m   Installed\u001b[22m\u001b[39m OrderedCollections ─────────── v1.6.3\n",
            "\u001b[32m\u001b[1m   Installed\u001b[22m\u001b[39m libevdev_jll ───────────────── v1.11.0+0\n",
            "\u001b[32m\u001b[1m   Installed\u001b[22m\u001b[39m Ogg_jll ────────────────────── v1.3.5+1\n",
            "\u001b[32m\u001b[1m   Installed\u001b[22m\u001b[39m libinput_jll ───────────────── v1.18.0+0\n",
            "\u001b[32m\u001b[1m   Installed\u001b[22m\u001b[39m ChainRulesCore ─────────────── v1.24.0\n",
            "\u001b[32m\u001b[1m   Installed\u001b[22m\u001b[39m Qt6ShaderTools_jll ─────────── v6.7.1+1\n",
            "\u001b[32m\u001b[1m   Installed\u001b[22m\u001b[39m Xorg_libXi_jll ─────────────── v1.7.10+4\n",
            "\u001b[32m\u001b[1m   Installed\u001b[22m\u001b[39m XSLT_jll ───────────────────── v1.1.41+0\n",
            "\u001b[32m\u001b[1m   Installed\u001b[22m\u001b[39m Vulkan_Loader_jll ──────────── v1.3.243+0\n",
            "\u001b[32m\u001b[1m   Installed\u001b[22m\u001b[39m ColorVectorSpace ───────────── v0.10.0\n",
            "\u001b[32m\u001b[1m   Installed\u001b[22m\u001b[39m Qt6Declarative_jll ─────────── v6.7.1+2\n",
            "\u001b[32m\u001b[1m   Installed\u001b[22m\u001b[39m LogExpFunctions ────────────── v0.3.28\n",
            "\u001b[32m\u001b[1m   Installed\u001b[22m\u001b[39m Xorg_libXcursor_jll ────────── v1.2.0+4\n",
            "\u001b[32m\u001b[1m   Installed\u001b[22m\u001b[39m Libuuid_jll ────────────────── v2.40.1+0\n",
            "\u001b[32m\u001b[1m   Installed\u001b[22m\u001b[39m MacroTools ─────────────────── v0.5.13\n",
            "\u001b[32m\u001b[1m   Installed\u001b[22m\u001b[39m Wayland_protocols_jll ──────── v1.31.0+0\n",
            "\u001b[32m\u001b[1m   Installed\u001b[22m\u001b[39m InverseFunctions ───────────── v0.1.16\n",
            "\u001b[32m\u001b[1m   Installed\u001b[22m\u001b[39m Xorg_xcb_util_renderutil_jll ─ v0.3.9+1\n",
            "\u001b[32m\u001b[1m   Installed\u001b[22m\u001b[39m Reexport ───────────────────── v1.2.2\n",
            "\u001b[32m\u001b[1m   Installed\u001b[22m\u001b[39m Xorg_libICE_jll ────────────── v1.1.1+0\n",
            "\u001b[32m\u001b[1m   Installed\u001b[22m\u001b[39m Graphite2_jll ──────────────── v1.3.14+0\n",
            "\u001b[32m\u001b[1m   Installed\u001b[22m\u001b[39m Pixman_jll ─────────────────── v0.43.4+0\n",
            "\u001b[32m\u001b[1m   Installed\u001b[22m\u001b[39m XML2_jll ───────────────────── v2.13.3+0\n",
            "\u001b[32m\u001b[1m   Installed\u001b[22m\u001b[39m libass_jll ─────────────────── v0.15.2+0\n",
            "\u001b[32m\u001b[1m   Installed\u001b[22m\u001b[39m Gettext_jll ────────────────── v0.21.0+0\n",
            "\u001b[32m\u001b[1m   Installed\u001b[22m\u001b[39m DocStringExtensions ────────── v0.9.3\n",
            "\u001b[32m\u001b[1m   Installed\u001b[22m\u001b[39m Wayland_jll ────────────────── v1.21.0+1\n",
            "\u001b[32m\u001b[1m   Installed\u001b[22m\u001b[39m Latexify ───────────────────── v0.16.5\n",
            "\u001b[32m\u001b[1m   Installed\u001b[22m\u001b[39m OpenSSL_jll ────────────────── v3.0.15+0\n",
            "\u001b[32m\u001b[1m   Installed\u001b[22m\u001b[39m FFMPEG_jll ─────────────────── v4.4.4+1\n",
            "\u001b[32m\u001b[1m   Installed\u001b[22m\u001b[39m BitFlags ───────────────────── v0.1.9\n",
            "\u001b[32m\u001b[1m   Installed\u001b[22m\u001b[39m Xorg_xtrans_jll ────────────── v1.5.0+0\n",
            "\u001b[32m\u001b[1m   Installed\u001b[22m\u001b[39m Libgcrypt_jll ──────────────── v1.8.11+0\n",
            "\u001b[32m\u001b[1m   Installed\u001b[22m\u001b[39m Xorg_xkeyboard_config_jll ──── v2.39.0+0\n",
            "\u001b[32m\u001b[1m   Installed\u001b[22m\u001b[39m LLVMOpenMP_jll ─────────────── v17.0.6+0\n",
            "\u001b[32m\u001b[1m   Installed\u001b[22m\u001b[39m DataAPI ────────────────────── v1.16.0\n",
            "\u001b[32m\u001b[1m   Installed\u001b[22m\u001b[39m Xorg_libXrandr_jll ─────────── v1.5.2+4\n",
            "\u001b[32m\u001b[1m   Installed\u001b[22m\u001b[39m Libiconv_jll ───────────────── v1.17.0+0\n",
            "\u001b[32m\u001b[1m   Installed\u001b[22m\u001b[39m Qt6Wayland_jll ─────────────── v6.7.1+1\n",
            "\u001b[32m\u001b[1m   Installed\u001b[22m\u001b[39m Xorg_libXfixes_jll ─────────── v5.0.3+4\n",
            "\u001b[32m\u001b[1m   Installed\u001b[22m\u001b[39m FixedPointNumbers ──────────── v0.8.5\n",
            "\u001b[32m\u001b[1m   Installed\u001b[22m\u001b[39m Qt6Base_jll ────────────────── v6.7.1+1\n",
            "\u001b[32m\u001b[1m   Installed\u001b[22m\u001b[39m LAME_jll ───────────────────── v3.100.2+0\n",
            "\u001b[32m\u001b[1m   Installed\u001b[22m\u001b[39m URIs ───────────────────────── v1.5.1\n",
            "\u001b[32m\u001b[1m   Installed\u001b[22m\u001b[39m libvorbis_jll ──────────────── v1.3.7+2\n",
            "\u001b[32m\u001b[1m   Installed\u001b[22m\u001b[39m RecipesBase ────────────────── v1.3.4\n",
            "\u001b[32m\u001b[1m   Installed\u001b[22m\u001b[39m LaTeXStrings ───────────────── v1.3.1\n",
            "\u001b[32m\u001b[1m   Installed\u001b[22m\u001b[39m Libglvnd_jll ───────────────── v1.6.0+0\n",
            "\u001b[32m\u001b[1m   Installed\u001b[22m\u001b[39m Xorg_libX11_jll ────────────── v1.8.6+0\n",
            "\u001b[32m\u001b[1m   Installed\u001b[22m\u001b[39m Glib_jll ───────────────────── v2.80.2+0\n",
            "\u001b[32m\u001b[1m   Installed\u001b[22m\u001b[39m Requires ───────────────────── v1.3.0\n",
            "\u001b[32m\u001b[1m   Installed\u001b[22m\u001b[39m Xorg_libXdmcp_jll ──────────── v1.1.4+0\n",
            "\u001b[32m\u001b[1m   Installed\u001b[22m\u001b[39m Unzip ──────────────────────── v0.2.0\n",
            "\u001b[32m\u001b[1m   Installed\u001b[22m\u001b[39m UnitfulLatexify ────────────── v1.6.4\n",
            "\u001b[32m\u001b[1m   Installed\u001b[22m\u001b[39m SortingAlgorithms ──────────── v1.2.1\n",
            "\u001b[32m\u001b[1m   Installed\u001b[22m\u001b[39m ChangesOfVariables ─────────── v0.1.9\n",
            "\u001b[32m\u001b[1m    Updating\u001b[22m\u001b[39m `~/.julia/environments/v1.8/Project.toml`\n",
            " \u001b[90m [91a5bcdd] \u001b[39m\u001b[92m+ Plots v1.40.8\u001b[39m\n",
            "\u001b[32m\u001b[1m    Updating\u001b[22m\u001b[39m `~/.julia/environments/v1.8/Manifest.toml`\n",
            " \u001b[90m [d1d4a3ce] \u001b[39m\u001b[92m+ BitFlags v0.1.9\u001b[39m\n",
            " \u001b[90m [d360d2e6] \u001b[39m\u001b[92m+ ChainRulesCore v1.24.0\u001b[39m\n",
            " \u001b[90m [9e997f8a] \u001b[39m\u001b[92m+ ChangesOfVariables v0.1.9\u001b[39m\n",
            " \u001b[90m [944b1d66] \u001b[39m\u001b[92m+ CodecZlib v0.7.6\u001b[39m\n",
            " \u001b[90m [35d6a980] \u001b[39m\u001b[92m+ ColorSchemes v3.26.0\u001b[39m\n",
            " \u001b[90m [3da002f7] \u001b[39m\u001b[92m+ ColorTypes v0.11.5\u001b[39m\n",
            " \u001b[90m [c3611d14] \u001b[39m\u001b[92m+ ColorVectorSpace v0.10.0\u001b[39m\n",
            " \u001b[90m [5ae59095] \u001b[39m\u001b[92m+ Colors v0.12.11\u001b[39m\n",
            " \u001b[90m [34da2185] \u001b[39m\u001b[92m+ Compat v4.16.0\u001b[39m\n",
            " \u001b[90m [f0e56b4a] \u001b[39m\u001b[92m+ ConcurrentUtilities v2.4.2\u001b[39m\n",
            " \u001b[90m [187b0558] \u001b[39m\u001b[92m+ ConstructionBase v1.5.8\u001b[39m\n",
            " \u001b[90m [d38c429a] \u001b[39m\u001b[92m+ Contour v0.6.3\u001b[39m\n",
            " \u001b[90m [9a962f9c] \u001b[39m\u001b[92m+ DataAPI v1.16.0\u001b[39m\n",
            " \u001b[90m [864edb3b] \u001b[39m\u001b[92m+ DataStructures v0.18.20\u001b[39m\n",
            " \u001b[90m [ffbed154] \u001b[39m\u001b[92m+ DocStringExtensions v0.9.3\u001b[39m\n",
            " \u001b[90m [460bff9d] \u001b[39m\u001b[92m+ ExceptionUnwrapping v0.1.10\u001b[39m\n",
            " \u001b[90m [c87230d0] \u001b[39m\u001b[92m+ FFMPEG v0.4.1\u001b[39m\n",
            " \u001b[90m [53c48c17] \u001b[39m\u001b[92m+ FixedPointNumbers v0.8.5\u001b[39m\n",
            " \u001b[90m [1fa38f19] \u001b[39m\u001b[92m+ Format v1.3.7\u001b[39m\n",
            " \u001b[90m [28b8d3ca] \u001b[39m\u001b[92m+ GR v0.73.7\u001b[39m\n",
            " \u001b[90m [42e2da0e] \u001b[39m\u001b[92m+ Grisu v1.0.2\u001b[39m\n",
            " \u001b[90m [cd3eb016] \u001b[39m\u001b[92m+ HTTP v1.10.8\u001b[39m\n",
            " \u001b[90m [3587e190] \u001b[39m\u001b[92m+ InverseFunctions v0.1.16\u001b[39m\n",
            " \u001b[90m [92d709cd] \u001b[39m\u001b[92m+ IrrationalConstants v0.2.2\u001b[39m\n",
            " \u001b[90m [1019f520] \u001b[39m\u001b[92m+ JLFzf v0.1.8\u001b[39m\n",
            " \u001b[90m [b964fa9f] \u001b[39m\u001b[92m+ LaTeXStrings v1.3.1\u001b[39m\n",
            " \u001b[90m [23fbe1c1] \u001b[39m\u001b[92m+ Latexify v0.16.5\u001b[39m\n",
            " \u001b[90m [2ab3a3ac] \u001b[39m\u001b[92m+ LogExpFunctions v0.3.28\u001b[39m\n",
            " \u001b[90m [e6f89c97] \u001b[39m\u001b[92m+ LoggingExtras v1.0.3\u001b[39m\n",
            " \u001b[90m [1914dd2f] \u001b[39m\u001b[92m+ MacroTools v0.5.13\u001b[39m\n",
            " \u001b[90m [442fdcdd] \u001b[39m\u001b[92m+ Measures v0.3.2\u001b[39m\n",
            " \u001b[90m [e1d29d7a] \u001b[39m\u001b[92m+ Missings v1.2.0\u001b[39m\n",
            " \u001b[90m [77ba4419] \u001b[39m\u001b[92m+ NaNMath v1.0.2\u001b[39m\n",
            " \u001b[90m [4d8831e6] \u001b[39m\u001b[92m+ OpenSSL v1.4.3\u001b[39m\n",
            " \u001b[90m [bac558e1] \u001b[39m\u001b[92m+ OrderedCollections v1.6.3\u001b[39m\n",
            " \u001b[90m [b98c9c47] \u001b[39m\u001b[92m+ Pipe v1.3.0\u001b[39m\n",
            " \u001b[90m [ccf2f8ad] \u001b[39m\u001b[92m+ PlotThemes v3.2.0\u001b[39m\n",
            " \u001b[90m [995b91a9] \u001b[39m\u001b[92m+ PlotUtils v1.4.1\u001b[39m\n",
            " \u001b[90m [91a5bcdd] \u001b[39m\u001b[92m+ Plots v1.40.8\u001b[39m\n",
            " \u001b[90m [3cdcf5f2] \u001b[39m\u001b[92m+ RecipesBase v1.3.4\u001b[39m\n",
            " \u001b[90m [01d81517] \u001b[39m\u001b[92m+ RecipesPipeline v0.6.12\u001b[39m\n",
            " \u001b[90m [189a3867] \u001b[39m\u001b[92m+ Reexport v1.2.2\u001b[39m\n",
            " \u001b[90m [05181044] \u001b[39m\u001b[92m+ RelocatableFolders v1.0.1\u001b[39m\n",
            " \u001b[90m [ae029012] \u001b[39m\u001b[92m+ Requires v1.3.0\u001b[39m\n",
            " \u001b[90m [6c6a2e73] \u001b[39m\u001b[92m+ Scratch v1.2.1\u001b[39m\n",
            " \u001b[90m [992d4aef] \u001b[39m\u001b[92m+ Showoff v1.0.3\u001b[39m\n",
            " \u001b[90m [777ac1f9] \u001b[39m\u001b[92m+ SimpleBufferStream v1.1.0\u001b[39m\n",
            " \u001b[90m [a2af1166] \u001b[39m\u001b[92m+ SortingAlgorithms v1.2.1\u001b[39m\n",
            " \u001b[90m [82ae8749] \u001b[39m\u001b[92m+ StatsAPI v1.7.0\u001b[39m\n",
            " \u001b[90m [2913bbd2] \u001b[39m\u001b[92m+ StatsBase v0.34.3\u001b[39m\n",
            " \u001b[90m [62fd8b95] \u001b[39m\u001b[92m+ TensorCore v0.1.1\u001b[39m\n",
            " \u001b[90m [3bb67fe8] \u001b[39m\u001b[92m+ TranscodingStreams v0.11.2\u001b[39m\n",
            " \u001b[90m [5c2747f8] \u001b[39m\u001b[92m+ URIs v1.5.1\u001b[39m\n",
            " \u001b[90m [1cfade01] \u001b[39m\u001b[92m+ UnicodeFun v0.4.1\u001b[39m\n",
            " \u001b[90m [1986cc42] \u001b[39m\u001b[92m+ Unitful v1.21.0\u001b[39m\n",
            " \u001b[90m [45397f5d] \u001b[39m\u001b[92m+ UnitfulLatexify v1.6.4\u001b[39m\n",
            " \u001b[90m [41fe7b60] \u001b[39m\u001b[92m+ Unzip v0.2.0\u001b[39m\n",
            " \u001b[90m [6e34b625] \u001b[39m\u001b[92m+ Bzip2_jll v1.0.8+1\u001b[39m\n",
            " \u001b[90m [83423d85] \u001b[39m\u001b[92m+ Cairo_jll v1.18.0+2\u001b[39m\n",
            " \u001b[90m [ee1fde0b] \u001b[39m\u001b[92m+ Dbus_jll v1.14.10+0\u001b[39m\n",
            " \u001b[90m [2702e6a9] \u001b[39m\u001b[92m+ EpollShim_jll v0.0.20230411+0\u001b[39m\n",
            " \u001b[90m [2e619515] \u001b[39m\u001b[92m+ Expat_jll v2.6.2+0\u001b[39m\n",
            "\u001b[33m⌅\u001b[39m\u001b[90m [b22a6f82] \u001b[39m\u001b[92m+ FFMPEG_jll v4.4.4+1\u001b[39m\n",
            " \u001b[90m [a3f928ae] \u001b[39m\u001b[92m+ Fontconfig_jll v2.13.96+0\u001b[39m\n",
            " \u001b[90m [d7e528f0] \u001b[39m\u001b[92m+ FreeType2_jll v2.13.2+0\u001b[39m\n",
            " \u001b[90m [559328eb] \u001b[39m\u001b[92m+ FriBidi_jll v1.0.14+0\u001b[39m\n",
            " \u001b[90m [0656b61e] \u001b[39m\u001b[92m+ GLFW_jll v3.4.0+1\u001b[39m\n",
            " \u001b[90m [d2c73de3] \u001b[39m\u001b[92m+ GR_jll v0.73.7+0\u001b[39m\n",
            " \u001b[90m [78b55507] \u001b[39m\u001b[92m+ Gettext_jll v0.21.0+0\u001b[39m\n",
            " \u001b[90m [7746bdde] \u001b[39m\u001b[92m+ Glib_jll v2.80.2+0\u001b[39m\n",
            " \u001b[90m [3b182d85] \u001b[39m\u001b[92m+ Graphite2_jll v1.3.14+0\u001b[39m\n",
            " \u001b[90m [2e76f6c2] \u001b[39m\u001b[92m+ HarfBuzz_jll v8.3.1+0\u001b[39m\n",
            " \u001b[90m [aacddb02] \u001b[39m\u001b[92m+ JpegTurbo_jll v3.0.3+0\u001b[39m\n",
            " \u001b[90m [c1c5ebd0] \u001b[39m\u001b[92m+ LAME_jll v3.100.2+0\u001b[39m\n",
            "\u001b[33m⌅\u001b[39m\u001b[90m [88015f11] \u001b[39m\u001b[92m+ LERC_jll v3.0.0+1\u001b[39m\n",
            " \u001b[90m [1d63c593] \u001b[39m\u001b[92m+ LLVMOpenMP_jll v17.0.6+0\u001b[39m\n",
            " \u001b[90m [dd4b983a] \u001b[39m\u001b[92m+ LZO_jll v2.10.2+0\u001b[39m\n",
            "\u001b[33m⌅\u001b[39m\u001b[90m [e9f186c6] \u001b[39m\u001b[92m+ Libffi_jll v3.2.2+1\u001b[39m\n",
            " \u001b[90m [d4300ac3] \u001b[39m\u001b[92m+ Libgcrypt_jll v1.8.11+0\u001b[39m\n",
            " \u001b[90m [7e76a0d4] \u001b[39m\u001b[92m+ Libglvnd_jll v1.6.0+0\u001b[39m\n",
            " \u001b[90m [7add5ba3] \u001b[39m\u001b[92m+ Libgpg_error_jll v1.49.0+0\u001b[39m\n",
            " \u001b[90m [94ce4f54] \u001b[39m\u001b[92m+ Libiconv_jll v1.17.0+0\u001b[39m\n",
            " \u001b[90m [4b2f31a3] \u001b[39m\u001b[92m+ Libmount_jll v2.40.1+0\u001b[39m\n",
            "\u001b[33m⌅\u001b[39m\u001b[90m [89763e89] \u001b[39m\u001b[92m+ Libtiff_jll v4.5.1+1\u001b[39m\n",
            " \u001b[90m [38a345b3] \u001b[39m\u001b[92m+ Libuuid_jll v2.40.1+0\u001b[39m\n",
            " \u001b[90m [e7412a2a] \u001b[39m\u001b[92m+ Ogg_jll v1.3.5+1\u001b[39m\n",
            " \u001b[90m [458c3c95] \u001b[39m\u001b[92m+ OpenSSL_jll v3.0.15+0\u001b[39m\n",
            " \u001b[90m [91d4177d] \u001b[39m\u001b[92m+ Opus_jll v1.3.3+0\u001b[39m\n",
            " \u001b[90m [36c8627f] \u001b[39m\u001b[92m+ Pango_jll v1.54.1+0\u001b[39m\n",
            " \u001b[90m [30392449] \u001b[39m\u001b[92m+ Pixman_jll v0.43.4+0\u001b[39m\n",
            " \u001b[90m [c0090381] \u001b[39m\u001b[92m+ Qt6Base_jll v6.7.1+1\u001b[39m\n",
            " \u001b[90m [629bc702] \u001b[39m\u001b[92m+ Qt6Declarative_jll v6.7.1+2\u001b[39m\n",
            " \u001b[90m [ce943373] \u001b[39m\u001b[92m+ Qt6ShaderTools_jll v6.7.1+1\u001b[39m\n",
            " \u001b[90m [e99dba38] \u001b[39m\u001b[92m+ Qt6Wayland_jll v6.7.1+1\u001b[39m\n",
            " \u001b[90m [a44049a8] \u001b[39m\u001b[92m+ Vulkan_Loader_jll v1.3.243+0\u001b[39m\n",
            " \u001b[90m [a2964d1f] \u001b[39m\u001b[92m+ Wayland_jll v1.21.0+1\u001b[39m\n",
            " \u001b[90m [2381bf8a] \u001b[39m\u001b[92m+ Wayland_protocols_jll v1.31.0+0\u001b[39m\n",
            " \u001b[90m [02c8fc9c] \u001b[39m\u001b[92m+ XML2_jll v2.13.3+0\u001b[39m\n",
            " \u001b[90m [aed1982a] \u001b[39m\u001b[92m+ XSLT_jll v1.1.41+0\u001b[39m\n",
            " \u001b[90m [ffd25f8a] \u001b[39m\u001b[92m+ XZ_jll v5.4.6+0\u001b[39m\n",
            " \u001b[90m [f67eecfb] \u001b[39m\u001b[92m+ Xorg_libICE_jll v1.1.1+0\u001b[39m\n",
            " \u001b[90m [c834827a] \u001b[39m\u001b[92m+ Xorg_libSM_jll v1.2.4+0\u001b[39m\n",
            " \u001b[90m [4f6342f7] \u001b[39m\u001b[92m+ Xorg_libX11_jll v1.8.6+0\u001b[39m\n",
            " \u001b[90m [0c0b7dd1] \u001b[39m\u001b[92m+ Xorg_libXau_jll v1.0.11+0\u001b[39m\n",
            " \u001b[90m [935fb764] \u001b[39m\u001b[92m+ Xorg_libXcursor_jll v1.2.0+4\u001b[39m\n",
            " \u001b[90m [a3789734] \u001b[39m\u001b[92m+ Xorg_libXdmcp_jll v1.1.4+0\u001b[39m\n",
            " \u001b[90m [1082639a] \u001b[39m\u001b[92m+ Xorg_libXext_jll v1.3.6+0\u001b[39m\n",
            " \u001b[90m [d091e8ba] \u001b[39m\u001b[92m+ Xorg_libXfixes_jll v5.0.3+4\u001b[39m\n",
            " \u001b[90m [a51aa0fd] \u001b[39m\u001b[92m+ Xorg_libXi_jll v1.7.10+4\u001b[39m\n",
            " \u001b[90m [d1454406] \u001b[39m\u001b[92m+ Xorg_libXinerama_jll v1.1.4+4\u001b[39m\n",
            " \u001b[90m [ec84b674] \u001b[39m\u001b[92m+ Xorg_libXrandr_jll v1.5.2+4\u001b[39m\n",
            " \u001b[90m [ea2f1a96] \u001b[39m\u001b[92m+ Xorg_libXrender_jll v0.9.11+0\u001b[39m\n",
            " \u001b[90m [14d82f49] \u001b[39m\u001b[92m+ Xorg_libpthread_stubs_jll v0.1.1+0\u001b[39m\n",
            " \u001b[90m [c7cfdc94] \u001b[39m\u001b[92m+ Xorg_libxcb_jll v1.17.0+0\u001b[39m\n",
            " \u001b[90m [cc61e674] \u001b[39m\u001b[92m+ Xorg_libxkbfile_jll v1.1.2+0\u001b[39m\n",
            " \u001b[90m [e920d4aa] \u001b[39m\u001b[92m+ Xorg_xcb_util_cursor_jll v0.1.4+0\u001b[39m\n",
            " \u001b[90m [12413925] \u001b[39m\u001b[92m+ Xorg_xcb_util_image_jll v0.4.0+1\u001b[39m\n",
            " \u001b[90m [2def613f] \u001b[39m\u001b[92m+ Xorg_xcb_util_jll v0.4.0+1\u001b[39m\n",
            " \u001b[90m [975044d2] \u001b[39m\u001b[92m+ Xorg_xcb_util_keysyms_jll v0.4.0+1\u001b[39m\n",
            " \u001b[90m [0d47668e] \u001b[39m\u001b[92m+ Xorg_xcb_util_renderutil_jll v0.3.9+1\u001b[39m\n",
            " \u001b[90m [c22f9ab0] \u001b[39m\u001b[92m+ Xorg_xcb_util_wm_jll v0.4.1+1\u001b[39m\n",
            " \u001b[90m [35661453] \u001b[39m\u001b[92m+ Xorg_xkbcomp_jll v1.4.6+0\u001b[39m\n",
            " \u001b[90m [33bec58e] \u001b[39m\u001b[92m+ Xorg_xkeyboard_config_jll v2.39.0+0\u001b[39m\n",
            " \u001b[90m [c5fb5394] \u001b[39m\u001b[92m+ Xorg_xtrans_jll v1.5.0+0\u001b[39m\n",
            " \u001b[90m [3161d3a3] \u001b[39m\u001b[92m+ Zstd_jll v1.5.6+0\u001b[39m\n",
            " \u001b[90m [35ca27e7] \u001b[39m\u001b[92m+ eudev_jll v3.2.9+0\u001b[39m\n",
            " \u001b[90m [214eeab7] \u001b[39m\u001b[92m+ fzf_jll v0.53.0+0\u001b[39m\n",
            " \u001b[90m [1a1c6b14] \u001b[39m\u001b[92m+ gperf_jll v3.1.1+0\u001b[39m\n",
            " \u001b[90m [a4ae2306] \u001b[39m\u001b[92m+ libaom_jll v3.9.0+0\u001b[39m\n",
            " \u001b[90m [0ac62f75] \u001b[39m\u001b[92m+ libass_jll v0.15.2+0\u001b[39m\n",
            " \u001b[90m [1183f4f0] \u001b[39m\u001b[92m+ libdecor_jll v0.2.2+0\u001b[39m\n",
            " \u001b[90m [2db6ffa8] \u001b[39m\u001b[92m+ libevdev_jll v1.11.0+0\u001b[39m\n",
            " \u001b[90m [f638f0a6] \u001b[39m\u001b[92m+ libfdk_aac_jll v2.0.3+0\u001b[39m\n",
            " \u001b[90m [36db933b] \u001b[39m\u001b[92m+ libinput_jll v1.18.0+0\u001b[39m\n",
            " \u001b[90m [b53b4c65] \u001b[39m\u001b[92m+ libpng_jll v1.6.43+1\u001b[39m\n",
            " \u001b[90m [f27f6e37] \u001b[39m\u001b[92m+ libvorbis_jll v1.3.7+2\u001b[39m\n",
            " \u001b[90m [009596ad] \u001b[39m\u001b[92m+ mtdev_jll v1.1.6+0\u001b[39m\n",
            "\u001b[33m⌅\u001b[39m\u001b[90m [1270edf5] \u001b[39m\u001b[92m+ x264_jll v2021.5.5+0\u001b[39m\n",
            "\u001b[33m⌅\u001b[39m\u001b[90m [dfaa095f] \u001b[39m\u001b[92m+ x265_jll v3.5.0+0\u001b[39m\n",
            " \u001b[90m [d8fb68d0] \u001b[39m\u001b[92m+ xkbcommon_jll v1.4.1+1\u001b[39m\n",
            " \u001b[90m [8bb1440f] \u001b[39m\u001b[92m+ DelimitedFiles\u001b[39m\n",
            " \u001b[90m [05823500] \u001b[39m\u001b[92m+ OpenLibm_jll v0.8.1+0\u001b[39m\n",
            " \u001b[90m [efcefdf7] \u001b[39m\u001b[92m+ PCRE2_jll v10.40.0+0\u001b[39m\n",
            "\u001b[36m\u001b[1m        Info\u001b[22m\u001b[39m Packages marked with \u001b[33m⌅\u001b[39m have new versions available but compatibility constraints restrict them from upgrading. To see why use `status --outdated -m`\n",
            "\u001b[32m\u001b[1mPrecompiling\u001b[22m\u001b[39m project...\n",
            "\u001b[32m  ✓ \u001b[39m\u001b[90mStatsAPI\u001b[39m\n",
            "\u001b[32m  ✓ \u001b[39m\u001b[90mLaTeXStrings\u001b[39m\n",
            "\u001b[32m  ✓ \u001b[39m\u001b[90mTensorCore\u001b[39m\n",
            "\u001b[32m  ✓ \u001b[39m\u001b[90mContour\u001b[39m\n",
            "\u001b[32m  ✓ \u001b[39m\u001b[90mConcurrentUtilities\u001b[39m\n",
            "\u001b[32m  ✓ \u001b[39m\u001b[90mPipe\u001b[39m\n",
            "\u001b[32m  ✓ \u001b[39m\u001b[90mFormat\u001b[39m\n",
            "\u001b[32m  ✓ \u001b[39m\u001b[90mOpenLibm_jll\u001b[39m\n",
            "\u001b[32m  ✓ \u001b[39m\u001b[90mMeasures\u001b[39m\n",
            "\u001b[32m  ✓ \u001b[39m\u001b[90mInverseFunctions\u001b[39m\n",
            "\u001b[32m  ✓ \u001b[39m\u001b[90mFixedPointNumbers\u001b[39m\n",
            "\u001b[32m  ✓ \u001b[39m\u001b[90mGrisu\u001b[39m\n",
            "\u001b[32m  ✓ \u001b[39m\u001b[90mCompat\u001b[39m\n",
            "\u001b[32m  ✓ \u001b[39m\u001b[90mRequires\u001b[39m\n",
            "\u001b[32m  ✓ \u001b[39m\u001b[90mOrderedCollections\u001b[39m\n",
            "\u001b[32m  ✓ \u001b[39m\u001b[90mUnzip\u001b[39m\n",
            "\u001b[32m  ✓ \u001b[39m\u001b[90mReexport\u001b[39m\n",
            "\u001b[32m  ✓ \u001b[39m\u001b[90mMacroTools\u001b[39m\n",
            "\u001b[32m  ✓ \u001b[39m\u001b[90mDocStringExtensions\u001b[39m\n",
            "\u001b[32m  ✓ \u001b[39m\u001b[90mURIs\u001b[39m\n",
            "\u001b[32m  ✓ \u001b[39m\u001b[90mSimpleBufferStream\u001b[39m\n",
            "\u001b[32m  ✓ \u001b[39m\u001b[90mIrrationalConstants\u001b[39m\n",
            "\u001b[32m  ✓ \u001b[39m\u001b[90mExceptionUnwrapping\u001b[39m\n",
            "\u001b[32m  ✓ \u001b[39m\u001b[90mPCRE2_jll\u001b[39m\n",
            "\u001b[32m  ✓ \u001b[39m\u001b[90mUnicodeFun\u001b[39m\n",
            "\u001b[32m  ✓ \u001b[39m\u001b[90mTranscodingStreams\u001b[39m\n",
            "\u001b[32m  ✓ \u001b[39m\u001b[90mConstructionBase\u001b[39m\n",
            "\u001b[32m  ✓ \u001b[39m\u001b[90mDataAPI\u001b[39m\n",
            "\u001b[32m  ✓ \u001b[39m\u001b[90mBitFlags\u001b[39m\n",
            "\u001b[32m  ✓ \u001b[39m\u001b[90mScratch\u001b[39m\n",
            "\u001b[32m  ✓ \u001b[39m\u001b[90mLoggingExtras\u001b[39m\n",
            "\u001b[32m  ✓ \u001b[39m\u001b[90mOpenSSL_jll\u001b[39m\n",
            "\u001b[32m  ✓ \u001b[39m\u001b[90mGraphite2_jll\u001b[39m\n",
            "\u001b[32m  ✓ \u001b[39m\u001b[90mRecipesBase\u001b[39m\n",
            "\u001b[32m  ✓ \u001b[39m\u001b[90mEpollShim_jll\u001b[39m\n",
            "\u001b[32m  ✓ \u001b[39m\u001b[90mLibmount_jll\u001b[39m\n",
            "\u001b[32m  ✓ \u001b[39m\u001b[90mXorg_libICE_jll\u001b[39m\n",
            "\u001b[32m  ✓ \u001b[39m\u001b[90mLLVMOpenMP_jll\u001b[39m\n",
            "\u001b[32m  ✓ \u001b[39m\u001b[90mBzip2_jll\u001b[39m\n",
            "\u001b[32m  ✓ \u001b[39m\u001b[90mXorg_libXau_jll\u001b[39m\n",
            "\u001b[32m  ✓ \u001b[39m\u001b[90mlibpng_jll\u001b[39m\n",
            "\u001b[32m  ✓ \u001b[39m\u001b[90mlibfdk_aac_jll\u001b[39m\n",
            "\u001b[32m  ✓ \u001b[39m\u001b[90mLAME_jll\u001b[39m\n",
            "\u001b[32m  ✓ \u001b[39m\u001b[90mLERC_jll\u001b[39m\n",
            "\u001b[32m  ✓ \u001b[39m\u001b[90mfzf_jll\u001b[39m\n",
            "\u001b[32m  ✓ \u001b[39m\u001b[90mJpegTurbo_jll\u001b[39m\n",
            "\u001b[32m  ✓ \u001b[39m\u001b[90mXZ_jll\u001b[39m\n",
            "\u001b[32m  ✓ \u001b[39m\u001b[90mOgg_jll\u001b[39m\n",
            "\u001b[32m  ✓ \u001b[39m\u001b[90mmtdev_jll\u001b[39m\n",
            "\u001b[32m  ✓ \u001b[39m\u001b[90mgperf_jll\u001b[39m\n",
            "\u001b[32m  ✓ \u001b[39m\u001b[90mXorg_libXdmcp_jll\u001b[39m\n",
            "\u001b[32m  ✓ \u001b[39m\u001b[90mx265_jll\u001b[39m\n",
            "\u001b[32m  ✓ \u001b[39m\u001b[90mx264_jll\u001b[39m\n",
            "\u001b[32m  ✓ \u001b[39m\u001b[90mlibaom_jll\u001b[39m\n",
            "\u001b[32m  ✓ \u001b[39m\u001b[90mZstd_jll\u001b[39m\n",
            "\u001b[32m  ✓ \u001b[39m\u001b[90mExpat_jll\u001b[39m\n",
            "\u001b[32m  ✓ \u001b[39m\u001b[90mOpus_jll\u001b[39m\n",
            "\u001b[32m  ✓ \u001b[39m\u001b[90mLZO_jll\u001b[39m\n",
            "\u001b[32m  ✓ \u001b[39m\u001b[90mXorg_xtrans_jll\u001b[39m\n",
            "\u001b[32m  ✓ \u001b[39m\u001b[90mlibevdev_jll\u001b[39m\n",
            "\u001b[32m  ✓ \u001b[39m\u001b[90mLibiconv_jll\u001b[39m\n",
            "\u001b[32m  ✓ \u001b[39m\u001b[90mLibffi_jll\u001b[39m\n",
            "\u001b[32m  ✓ \u001b[39m\u001b[90mWayland_protocols_jll\u001b[39m\n",
            "\u001b[32m  ✓ \u001b[39m\u001b[90mLibgpg_error_jll\u001b[39m\n",
            "\u001b[32m  ✓ \u001b[39m\u001b[90mXorg_libpthread_stubs_jll\u001b[39m\n",
            "\u001b[32m  ✓ \u001b[39m\u001b[90mFriBidi_jll\u001b[39m\n",
            "\u001b[32m  ✓ \u001b[39m\u001b[90mLibuuid_jll\u001b[39m\n",
            "\u001b[32m  ✓ \u001b[39m\u001b[90mNaNMath\u001b[39m\n",
            "\u001b[32m  ✓ \u001b[39m\u001b[90mShowoff\u001b[39m\n",
            "\u001b[32m  ✓ \u001b[39m\u001b[90mChangesOfVariables\u001b[39m\n",
            "\u001b[32m  ✓ \u001b[39m\u001b[90mChainRulesCore\u001b[39m\n",
            "\u001b[32m  ✓ \u001b[39m\u001b[90mColorTypes\u001b[39m\n",
            "\u001b[32m  ✓ \u001b[39m\u001b[90mDataStructures\u001b[39m\n",
            "\u001b[32m  ✓ \u001b[39m\u001b[90mCodecZlib\u001b[39m\n",
            "\u001b[32m  ✓ \u001b[39m\u001b[90mMissings\u001b[39m\n",
            "\u001b[32m  ✓ \u001b[39m\u001b[90mRelocatableFolders\u001b[39m\n",
            "\u001b[32m  ✓ \u001b[39m\u001b[90mLatexify\u001b[39m\n",
            "\u001b[32m  ✓ \u001b[39m\u001b[90mXorg_libSM_jll\u001b[39m\n",
            "\u001b[32m  ✓ \u001b[39m\u001b[90mOpenSSL\u001b[39m\n",
            "\u001b[32m  ✓ \u001b[39m\u001b[90mPixman_jll\u001b[39m\n",
            "\u001b[32m  ✓ \u001b[39m\u001b[90mFreeType2_jll\u001b[39m\n",
            "\u001b[32m  ✓ \u001b[39m\u001b[90mJLFzf\u001b[39m\n",
            "\u001b[32m  ✓ \u001b[39m\u001b[90mlibvorbis_jll\u001b[39m\n",
            "\u001b[32m  ✓ \u001b[39m\u001b[90meudev_jll\u001b[39m\n",
            "\u001b[32m  ✓ \u001b[39m\u001b[90mLibtiff_jll\u001b[39m\n",
            "\u001b[32m  ✓ \u001b[39m\u001b[90mDbus_jll\u001b[39m\n",
            "\u001b[32m  ✓ \u001b[39m\u001b[90mXML2_jll\u001b[39m\n",
            "\u001b[32m  ✓ \u001b[39m\u001b[90mLibgcrypt_jll\u001b[39m\n",
            "\u001b[32m  ✓ \u001b[39m\u001b[90mLogExpFunctions\u001b[39m\n",
            "\u001b[32m  ✓ \u001b[39m\u001b[90mColorVectorSpace\u001b[39m\n",
            "\u001b[32m  ✓ \u001b[39m\u001b[90mSortingAlgorithms\u001b[39m\n",
            "\u001b[32m  ✓ \u001b[39m\u001b[90mColors\u001b[39m\n",
            "\u001b[32m  ✓ \u001b[39m\u001b[90mHTTP\u001b[39m\n",
            "\u001b[32m  ✓ \u001b[39m\u001b[90mFontconfig_jll\u001b[39m\n",
            "\u001b[32m  ✓ \u001b[39m\u001b[90mlibinput_jll\u001b[39m\n",
            "\u001b[32m  ✓ \u001b[39m\u001b[90mGettext_jll\u001b[39m\n",
            "\u001b[32m  ✓ \u001b[39m\u001b[90mXSLT_jll\u001b[39m\n",
            "\u001b[32m  ✓ \u001b[39m\u001b[90mWayland_jll\u001b[39m\n",
            "\u001b[32m  ✓ \u001b[39m\u001b[90mStatsBase\u001b[39m\n",
            "\u001b[32m  ✓ \u001b[39m\u001b[90mGlib_jll\u001b[39m\n",
            "\u001b[32m  ✓ \u001b[39m\u001b[90mXorg_libxcb_jll\u001b[39m\n",
            "\u001b[32m  ✓ \u001b[39m\u001b[90mXorg_xcb_util_jll\u001b[39m\n",
            "\u001b[32m  ✓ \u001b[39m\u001b[90mXorg_libX11_jll\u001b[39m\n",
            "\u001b[32m  ✓ \u001b[39m\u001b[90mXorg_xcb_util_image_jll\u001b[39m\n",
            "\u001b[32m  ✓ \u001b[39m\u001b[90mXorg_xcb_util_keysyms_jll\u001b[39m\n",
            "\u001b[32m  ✓ \u001b[39m\u001b[90mXorg_xcb_util_renderutil_jll\u001b[39m\n",
            "\u001b[32m  ✓ \u001b[39m\u001b[90mXorg_xcb_util_wm_jll\u001b[39m\n",
            "\u001b[32m  ✓ \u001b[39m\u001b[90mXorg_libXrender_jll\u001b[39m\n",
            "\u001b[32m  ✓ \u001b[39m\u001b[90mXorg_libXext_jll\u001b[39m\n",
            "\u001b[32m  ✓ \u001b[39m\u001b[90mXorg_libXfixes_jll\u001b[39m\n",
            "\u001b[32m  ✓ \u001b[39m\u001b[90mXorg_libxkbfile_jll\u001b[39m\n",
            "\u001b[32m  ✓ \u001b[39m\u001b[90mColorSchemes\u001b[39m\n",
            "\u001b[32m  ✓ \u001b[39m\u001b[90mXorg_xcb_util_cursor_jll\u001b[39m\n",
            "\u001b[32m  ✓ \u001b[39m\u001b[90mLibglvnd_jll\u001b[39m\n",
            "\u001b[32m  ✓ \u001b[39m\u001b[90mXorg_libXinerama_jll\u001b[39m\n",
            "\u001b[32m  ✓ \u001b[39m\u001b[90mXorg_libXrandr_jll\u001b[39m\n",
            "\u001b[32m  ✓ \u001b[39m\u001b[90mCairo_jll\u001b[39m\n",
            "\u001b[32m  ✓ \u001b[39m\u001b[90mXorg_libXcursor_jll\u001b[39m\n",
            "\u001b[32m  ✓ \u001b[39m\u001b[90mXorg_libXi_jll\u001b[39m\n",
            "\u001b[32m  ✓ \u001b[39m\u001b[90mXorg_xkbcomp_jll\u001b[39m\n",
            "\u001b[32m  ✓ \u001b[39m\u001b[90mHarfBuzz_jll\u001b[39m\n",
            "\u001b[32m  ✓ \u001b[39m\u001b[90mXorg_xkeyboard_config_jll\u001b[39m\n",
            "\u001b[32m  ✓ \u001b[39m\u001b[90mlibass_jll\u001b[39m\n",
            "\u001b[32m  ✓ \u001b[39m\u001b[90mPango_jll\u001b[39m\n",
            "\u001b[32m  ✓ \u001b[39m\u001b[90mxkbcommon_jll\u001b[39m\n",
            "\u001b[32m  ✓ \u001b[39m\u001b[90mFFMPEG_jll\u001b[39m\n",
            "\u001b[32m  ✓ \u001b[39m\u001b[90mUnitful\u001b[39m\n",
            "\u001b[32m  ✓ \u001b[39m\u001b[90mlibdecor_jll\u001b[39m\n",
            "\u001b[32m  ✓ \u001b[39m\u001b[90mVulkan_Loader_jll\u001b[39m\n",
            "\u001b[32m  ✓ \u001b[39m\u001b[90mFFMPEG\u001b[39m\n",
            "\u001b[32m  ✓ \u001b[39m\u001b[90mGLFW_jll\u001b[39m\n",
            "\u001b[32m  ✓ \u001b[39m\u001b[90mQt6Base_jll\u001b[39m\n",
            "\u001b[32m  ✓ \u001b[39m\u001b[90mUnitfulLatexify\u001b[39m\n",
            "\u001b[32m  ✓ \u001b[39m\u001b[90mQt6ShaderTools_jll\u001b[39m\n",
            "\u001b[32m  ✓ \u001b[39m\u001b[90mGR_jll\u001b[39m\n",
            "\u001b[32m  ✓ \u001b[39m\u001b[90mQt6Declarative_jll\u001b[39m\n",
            "\u001b[32m  ✓ \u001b[39m\u001b[90mQt6Wayland_jll\u001b[39m\n",
            "\u001b[32m  ✓ \u001b[39m\u001b[90mPlotUtils\u001b[39m\n",
            "\u001b[32m  ✓ \u001b[39m\u001b[90mGR\u001b[39m\n",
            "\u001b[32m  ✓ \u001b[39m\u001b[90mRecipesPipeline\u001b[39m\n",
            "\u001b[32m  ✓ \u001b[39m\u001b[90mPlotThemes\u001b[39m\n",
            "\u001b[32m  ✓ \u001b[39mPlots\n",
            "  142 dependencies successfully precompiled in 203 seconds. 20 already precompiled.\n",
            "\u001b[32m\u001b[1m   Resolving\u001b[22m\u001b[39m package versions...\n",
            "\u001b[32m\u001b[1m    Updating\u001b[22m\u001b[39m `~/.julia/environments/v1.8/Project.toml`\n",
            " \u001b[90m [9a3f8284] \u001b[39m\u001b[92m+ Random\u001b[39m\n",
            "\u001b[32m\u001b[1m  No Changes\u001b[22m\u001b[39m to `~/.julia/environments/v1.8/Manifest.toml`\n",
            "\u001b[32m\u001b[1m   Resolving\u001b[22m\u001b[39m package versions...\n",
            "\u001b[32m\u001b[1m   Installed\u001b[22m\u001b[39m StatsModels ───────────────── v0.7.4\n",
            "\u001b[32m\u001b[1m   Installed\u001b[22m\u001b[39m PDMats ────────────────────── v0.11.31\n",
            "\u001b[32m\u001b[1m   Installed\u001b[22m\u001b[39m StatsFuns ─────────────────── v1.3.1\n",
            "\u001b[32m\u001b[1m   Installed\u001b[22m\u001b[39m HypergeometricFunctions ───── v0.3.24\n",
            "\u001b[32m\u001b[1m   Installed\u001b[22m\u001b[39m Rmath_jll ─────────────────── v0.4.3+0\n",
            "\u001b[32m\u001b[1m   Installed\u001b[22m\u001b[39m PtrArrays ─────────────────── v1.2.1\n",
            "\u001b[32m\u001b[1m   Installed\u001b[22m\u001b[39m GLM ───────────────────────── v1.9.0\n",
            "\u001b[32m\u001b[1m   Installed\u001b[22m\u001b[39m SpecialFunctions ──────────── v2.4.0\n",
            "\u001b[32m\u001b[1m   Installed\u001b[22m\u001b[39m OpenSpecFun_jll ───────────── v0.5.5+0\n",
            "\u001b[32m\u001b[1m   Installed\u001b[22m\u001b[39m AliasTables ───────────────── v1.1.3\n",
            "\u001b[32m\u001b[1m   Installed\u001b[22m\u001b[39m Tables ────────────────────── v1.12.0\n",
            "\u001b[32m\u001b[1m   Installed\u001b[22m\u001b[39m FillArrays ────────────────── v1.13.0\n",
            "\u001b[32m\u001b[1m   Installed\u001b[22m\u001b[39m ShiftedArrays ─────────────── v2.0.0\n",
            "\u001b[32m\u001b[1m   Installed\u001b[22m\u001b[39m DataValueInterfaces ───────── v1.0.0\n",
            "\u001b[32m\u001b[1m   Installed\u001b[22m\u001b[39m QuadGK ────────────────────── v2.11.0\n",
            "\u001b[32m\u001b[1m   Installed\u001b[22m\u001b[39m Rmath ─────────────────────── v0.7.1\n",
            "\u001b[32m\u001b[1m   Installed\u001b[22m\u001b[39m IteratorInterfaceExtensions ─ v1.0.0\n",
            "\u001b[32m\u001b[1m   Installed\u001b[22m\u001b[39m TableTraits ───────────────── v1.0.1\n",
            "\u001b[32m\u001b[1m   Installed\u001b[22m\u001b[39m Distributions ─────────────── v0.25.111\n",
            "\u001b[32m\u001b[1m   Installed\u001b[22m\u001b[39m DensityInterface ──────────── v0.4.0\n",
            "\u001b[32m\u001b[1m    Updating\u001b[22m\u001b[39m `~/.julia/environments/v1.8/Project.toml`\n",
            " \u001b[90m [38e38edf] \u001b[39m\u001b[92m+ GLM v1.9.0\u001b[39m\n",
            "\u001b[32m\u001b[1m    Updating\u001b[22m\u001b[39m `~/.julia/environments/v1.8/Manifest.toml`\n",
            " \u001b[90m [66dad0bd] \u001b[39m\u001b[92m+ AliasTables v1.1.3\u001b[39m\n",
            " \u001b[90m [e2d170a0] \u001b[39m\u001b[92m+ DataValueInterfaces v1.0.0\u001b[39m\n",
            " \u001b[90m [b429d917] \u001b[39m\u001b[92m+ DensityInterface v0.4.0\u001b[39m\n",
            " \u001b[90m [31c24e10] \u001b[39m\u001b[92m+ Distributions v0.25.111\u001b[39m\n",
            " \u001b[90m [1a297f60] \u001b[39m\u001b[92m+ FillArrays v1.13.0\u001b[39m\n",
            " \u001b[90m [38e38edf] \u001b[39m\u001b[92m+ GLM v1.9.0\u001b[39m\n",
            " \u001b[90m [34004b35] \u001b[39m\u001b[92m+ HypergeometricFunctions v0.3.24\u001b[39m\n",
            " \u001b[90m [82899510] \u001b[39m\u001b[92m+ IteratorInterfaceExtensions v1.0.0\u001b[39m\n",
            " \u001b[90m [90014a1f] \u001b[39m\u001b[92m+ PDMats v0.11.31\u001b[39m\n",
            " \u001b[90m [43287f4e] \u001b[39m\u001b[92m+ PtrArrays v1.2.1\u001b[39m\n",
            " \u001b[90m [1fd47b50] \u001b[39m\u001b[92m+ QuadGK v2.11.0\u001b[39m\n",
            " \u001b[90m [79098fc4] \u001b[39m\u001b[92m+ Rmath v0.7.1\u001b[39m\n",
            " \u001b[90m [1277b4bf] \u001b[39m\u001b[92m+ ShiftedArrays v2.0.0\u001b[39m\n",
            " \u001b[90m [276daf66] \u001b[39m\u001b[92m+ SpecialFunctions v2.4.0\u001b[39m\n",
            " \u001b[90m [4c63d2b9] \u001b[39m\u001b[92m+ StatsFuns v1.3.1\u001b[39m\n",
            " \u001b[90m [3eaba693] \u001b[39m\u001b[92m+ StatsModels v0.7.4\u001b[39m\n",
            " \u001b[90m [3783bdb8] \u001b[39m\u001b[92m+ TableTraits v1.0.1\u001b[39m\n",
            " \u001b[90m [bd369af6] \u001b[39m\u001b[92m+ Tables v1.12.0\u001b[39m\n",
            " \u001b[90m [efe28fd5] \u001b[39m\u001b[92m+ OpenSpecFun_jll v0.5.5+0\u001b[39m\n",
            "\u001b[33m⌅\u001b[39m\u001b[90m [f50d1b31] \u001b[39m\u001b[92m+ Rmath_jll v0.4.3+0\u001b[39m\n",
            " \u001b[90m [4607b0f0] \u001b[39m\u001b[92m+ SuiteSparse\u001b[39m\n",
            "\u001b[36m\u001b[1m        Info\u001b[22m\u001b[39m Packages marked with \u001b[33m⌅\u001b[39m have new versions available but compatibility constraints restrict them from upgrading. To see why use `status --outdated -m`\n",
            "\u001b[32m\u001b[1mPrecompiling\u001b[22m\u001b[39m project...\n",
            "\u001b[32m  ✓ \u001b[39m\u001b[90mIteratorInterfaceExtensions\u001b[39m\n",
            "\u001b[32m  ✓ \u001b[39m\u001b[90mShiftedArrays\u001b[39m\n",
            "\u001b[32m  ✓ \u001b[39m\u001b[90mDataValueInterfaces\u001b[39m\n",
            "\u001b[32m  ✓ \u001b[39m\u001b[90mPtrArrays\u001b[39m\n",
            "\u001b[32m  ✓ \u001b[39m\u001b[90mPDMats\u001b[39m\n",
            "\u001b[32m  ✓ \u001b[39m\u001b[90mDensityInterface\u001b[39m\n",
            "\u001b[32m  ✓ \u001b[39m\u001b[90mRmath_jll\u001b[39m\n",
            "\u001b[32m  ✓ \u001b[39m\u001b[90mOpenSpecFun_jll\u001b[39m\n",
            "\u001b[32m  ✓ \u001b[39m\u001b[90mTableTraits\u001b[39m\n",
            "\u001b[32m  ✓ \u001b[39m\u001b[90mAliasTables\u001b[39m\n",
            "\u001b[32m  ✓ \u001b[39m\u001b[90mQuadGK\u001b[39m\n",
            "\u001b[32m  ✓ \u001b[39m\u001b[90mRmath\u001b[39m\n",
            "\u001b[32m  ✓ \u001b[39m\u001b[90mFillArrays\u001b[39m\n",
            "\u001b[32m  ✓ \u001b[39m\u001b[90mTables\u001b[39m\n",
            "\u001b[32m  ✓ \u001b[39m\u001b[90mSpecialFunctions\u001b[39m\n",
            "\u001b[32m  ✓ \u001b[39m\u001b[90mHypergeometricFunctions\u001b[39m\n",
            "\u001b[32m  ✓ \u001b[39m\u001b[90mStatsFuns\u001b[39m\n",
            "\u001b[32m  ✓ \u001b[39m\u001b[90mStatsModels\u001b[39m\n",
            "\u001b[32m  ✓ \u001b[39m\u001b[90mDistributions\u001b[39m\n",
            "\u001b[32m  ✓ \u001b[39mGLM\n",
            "  20 dependencies successfully precompiled in 30 seconds. 162 already precompiled.\n",
            "\u001b[32m\u001b[1m   Resolving\u001b[22m\u001b[39m package versions...\n",
            "\u001b[32m\u001b[1m   Installed\u001b[22m\u001b[39m PooledArrays ─────── v1.4.3\n",
            "\u001b[32m\u001b[1m   Installed\u001b[22m\u001b[39m Crayons ──────────── v4.1.1\n",
            "\u001b[32m\u001b[1m   Installed\u001b[22m\u001b[39m SentinelArrays ───── v1.4.5\n",
            "\u001b[32m\u001b[1m   Installed\u001b[22m\u001b[39m InvertedIndices ──── v1.3.0\n",
            "\u001b[32m\u001b[1m   Installed\u001b[22m\u001b[39m StringManipulation ─ v0.3.4\n",
            "\u001b[32m\u001b[1m   Installed\u001b[22m\u001b[39m PrettyTables ─────── v2.3.2\n",
            "\u001b[32m\u001b[1m   Installed\u001b[22m\u001b[39m InlineStrings ────── v1.4.2\n",
            "\u001b[32m\u001b[1m   Installed\u001b[22m\u001b[39m DataFrames ───────── v1.6.1\n",
            "\u001b[32m\u001b[1m    Updating\u001b[22m\u001b[39m `~/.julia/environments/v1.8/Project.toml`\n",
            " \u001b[90m [a93c6f00] \u001b[39m\u001b[92m+ DataFrames v1.6.1\u001b[39m\n",
            "\u001b[32m\u001b[1m    Updating\u001b[22m\u001b[39m `~/.julia/environments/v1.8/Manifest.toml`\n",
            " \u001b[90m [a8cc5b0e] \u001b[39m\u001b[92m+ Crayons v4.1.1\u001b[39m\n",
            " \u001b[90m [a93c6f00] \u001b[39m\u001b[92m+ DataFrames v1.6.1\u001b[39m\n",
            " \u001b[90m [842dd82b] \u001b[39m\u001b[92m+ InlineStrings v1.4.2\u001b[39m\n",
            " \u001b[90m [41ab1584] \u001b[39m\u001b[92m+ InvertedIndices v1.3.0\u001b[39m\n",
            " \u001b[90m [2dfb63ee] \u001b[39m\u001b[92m+ PooledArrays v1.4.3\u001b[39m\n",
            " \u001b[90m [08abe8d2] \u001b[39m\u001b[92m+ PrettyTables v2.3.2\u001b[39m\n",
            " \u001b[90m [91c51154] \u001b[39m\u001b[92m+ SentinelArrays v1.4.5\u001b[39m\n",
            " \u001b[90m [892a3eda] \u001b[39m\u001b[92m+ StringManipulation v0.3.4\u001b[39m\n",
            " \u001b[90m [9fa8497b] \u001b[39m\u001b[92m+ Future\u001b[39m\n",
            "\u001b[32m\u001b[1mPrecompiling\u001b[22m\u001b[39m project...\n",
            "\u001b[32m  ✓ \u001b[39m\u001b[90mInvertedIndices\u001b[39m\n",
            "\u001b[32m  ✓ \u001b[39m\u001b[90mPooledArrays\u001b[39m\n",
            "\u001b[32m  ✓ \u001b[39m\u001b[90mSentinelArrays\u001b[39m\n",
            "\u001b[32m  ✓ \u001b[39m\u001b[90mCrayons\u001b[39m\n",
            "\u001b[32m  ✓ \u001b[39m\u001b[90mStringManipulation\u001b[39m\n",
            "\u001b[32m  ✓ \u001b[39m\u001b[90mInlineStrings\u001b[39m\n",
            "\u001b[32m  ✓ \u001b[39m\u001b[90mPrettyTables\u001b[39m\n",
            "\u001b[32m  ✓ \u001b[39mDataFrames\n",
            "  8 dependencies successfully precompiled in 80 seconds. 182 already precompiled.\n",
            "\u001b[32m\u001b[1m   Resolving\u001b[22m\u001b[39m package versions...\n",
            "\u001b[32m\u001b[1m    Updating\u001b[22m\u001b[39m `~/.julia/environments/v1.8/Project.toml`\n",
            " \u001b[90m [b964fa9f] \u001b[39m\u001b[92m+ LaTeXStrings v1.3.1\u001b[39m\n",
            "\u001b[32m\u001b[1m  No Changes\u001b[22m\u001b[39m to `~/.julia/environments/v1.8/Manifest.toml`\n",
            "\u001b[32m\u001b[1m   Resolving\u001b[22m\u001b[39m package versions...\n",
            "\u001b[32m\u001b[1m    Updating\u001b[22m\u001b[39m `~/.julia/environments/v1.8/Project.toml`\n",
            " \u001b[90m [10745b16] \u001b[39m\u001b[92m+ Statistics\u001b[39m\n",
            "\u001b[32m\u001b[1m  No Changes\u001b[22m\u001b[39m to `~/.julia/environments/v1.8/Manifest.toml`\n"
          ]
        }
      ],
      "source": [
        "using Pkg\n",
        "Pkg.add(\"Plots\")\n",
        "Pkg.add(\"Random\")\n",
        "Pkg.add(\"GLM\")\n",
        "Pkg.add(\"DataFrames\")\n",
        "Pkg.add(\"LaTeXStrings\")\n",
        "Pkg.add(\"Statistics\")"
      ]
    },
    {
      "cell_type": "code",
      "execution_count": null,
      "metadata": {
        "colab": {
          "base_uri": "https://localhost:8080/"
        },
        "id": "fM9rOtw2JJRx",
        "outputId": "609a6d7e-9814-454f-89e3-999eb1f041af"
      },
      "outputs": [
        {
          "name": "stderr",
          "output_type": "stream",
          "text": [
            "\u001b[32m\u001b[1m   Resolving\u001b[22m\u001b[39m package versions...\n",
            "\u001b[32m\u001b[1m  No Changes\u001b[22m\u001b[39m to `~/.julia/environments/v1.8/Project.toml`\n",
            "\u001b[32m\u001b[1m  No Changes\u001b[22m\u001b[39m to `~/.julia/environments/v1.8/Manifest.toml`\n"
          ]
        }
      ],
      "source": [
        "Pkg.add(\"StatsBase\")"
      ]
    },
    {
      "cell_type": "code",
      "execution_count": null,
      "metadata": {
        "id": "E5xe-3gJIx9k"
      },
      "outputs": [],
      "source": [
        "#Usamos los siguientes paquetes\n",
        "using Plots\n",
        "using Random\n",
        "using GLM\n",
        "using DataFrames\n",
        "using LaTeXStrings\n",
        "using Statistics\n",
        "using StatsBase"
      ]
    },
    {
      "cell_type": "markdown",
      "metadata": {
        "id": "OZHLJ2ZI-9Mm"
      },
      "source": [
        "**1. DATA ANALYSIS**"
      ]
    },
    {
      "cell_type": "markdown",
      "metadata": {
        "id": "Hk-OF691_ABv"
      },
      "source": [
        "**1. Import the data set. Make sure the column names are imported as intended.**"
      ]
    },
    {
      "cell_type": "code",
      "execution_count": 4,
      "metadata": {
        "colab": {
          "base_uri": "https://localhost:8080/"
        },
        "id": "8h79BGxlJYe2",
        "outputId": "73bb2564-81b9-4da0-8d7d-7149439d8f7d"
      },
      "outputs": [
        {
          "name": "stderr",
          "output_type": "stream",
          "text": [
            "\u001b[32m\u001b[1m   Resolving\u001b[22m\u001b[39m package versions...\n",
            "\u001b[32m\u001b[1m   Installed\u001b[22m\u001b[39m WorkerUtilities ─ v1.6.1\n",
            "\u001b[32m\u001b[1m   Installed\u001b[22m\u001b[39m WeakRefStrings ── v1.4.2\n",
            "\u001b[32m\u001b[1m   Installed\u001b[22m\u001b[39m FilePathsBase ─── v0.9.22\n",
            "\u001b[32m\u001b[1m   Installed\u001b[22m\u001b[39m CSV ───────────── v0.10.14\n",
            "\u001b[32m\u001b[1m    Updating\u001b[22m\u001b[39m `~/.julia/environments/v1.8/Project.toml`\n",
            " \u001b[90m [336ed68f] \u001b[39m\u001b[92m+ CSV v0.10.14\u001b[39m\n",
            "\u001b[32m\u001b[1m    Updating\u001b[22m\u001b[39m `~/.julia/environments/v1.8/Manifest.toml`\n",
            " \u001b[90m [336ed68f] \u001b[39m\u001b[92m+ CSV v0.10.14\u001b[39m\n",
            " \u001b[90m [48062228] \u001b[39m\u001b[92m+ FilePathsBase v0.9.22\u001b[39m\n",
            " \u001b[90m [ea10d353] \u001b[39m\u001b[92m+ WeakRefStrings v1.4.2\u001b[39m\n",
            " \u001b[90m [76eceee3] \u001b[39m\u001b[92m+ WorkerUtilities v1.6.1\u001b[39m\n",
            "\u001b[32m\u001b[1mPrecompiling\u001b[22m\u001b[39m project...\n",
            "\u001b[32m  ✓ \u001b[39m\u001b[90mWorkerUtilities\u001b[39m\n",
            "\u001b[32m  ✓ \u001b[39m\u001b[90mWeakRefStrings\u001b[39m\n",
            "\u001b[32m  ✓ \u001b[39m\u001b[90mFilePathsBase\u001b[39m\n",
            "\u001b[32m  ✓ \u001b[39mCSV\n",
            "  4 dependencies successfully precompiled in 23 seconds. 190 already precompiled.\n"
          ]
        }
      ],
      "source": [
        "using Pkg\n",
        "Pkg.add([\"CSV\", \"DataFrames\"])"
      ]
    },
    {
      "cell_type": "code",
      "execution_count": 6,
      "metadata": {
        "colab": {
          "base_uri": "https://localhost:8080/"
        },
        "id": "it0i3rF2JYr_",
        "outputId": "f1ee07dc-e7c0-40b4-c98a-a7bf10691437"
      },
      "outputs": [
        {
          "data": {
            "text/plain": [
              "21-element Vector{String}:\n",
              " \"rownames\"\n",
              " \"wage\"\n",
              " \"lwage\"\n",
              " \"sex\"\n",
              " \"shs\"\n",
              " \"hsg\"\n",
              " \"scl\"\n",
              " \"clg\"\n",
              " \"ad\"\n",
              " \"mw\"\n",
              " \"so\"\n",
              " \"we\"\n",
              " \"ne\"\n",
              " \"exp1\"\n",
              " \"exp2\"\n",
              " \"exp3\"\n",
              " \"exp4\"\n",
              " \"occ\"\n",
              " \"occ2\"\n",
              " \"ind\"\n",
              " \"ind2\""
            ]
          },
          "execution_count": 6,
          "metadata": {},
          "output_type": "execute_result"
        }
      ],
      "source": [
        "using CSV\n",
        "using DataFrames\n",
        "\n",
        "# Cargar el archivo CSV\n",
        "data = CSV.read(\"/content/wage2015_subsample_inference.csv\", DataFrame)\n",
        "\n",
        "names(data)\n"
      ]
    },
    {
      "cell_type": "markdown",
      "metadata": {
        "id": "ChOVPSo5_iUt"
      },
      "source": [
        "**2. Are there missing values? Display the number of missings (if any) of each variable in the data set.**"
      ]
    },
    {
      "cell_type": "code",
      "execution_count": 7,
      "metadata": {
        "colab": {
          "base_uri": "https://localhost:8080/",
          "height": 546
        },
        "id": "v47Ra61sKxDX",
        "outputId": "190cbaab-2b50-4f07-c012-ac3e4fed9af8"
      },
      "outputs": [
        {
          "data": {
            "text/html": [
              "<div><div style = \"float: left;\"><span>21×2 DataFrame</span></div><div style = \"clear: both;\"></div></div><div class = \"data-frame\" style = \"overflow-x: scroll;\"><table class = \"data-frame\" style = \"margin-bottom: 6px;\"><thead><tr class = \"header\"><th class = \"rowNumber\" style = \"font-weight: bold; text-align: right;\">Row</th><th style = \"text-align: left;\">variable</th><th style = \"text-align: left;\">missing_count</th></tr><tr class = \"subheader headerLastRow\"><th class = \"rowNumber\" style = \"font-weight: bold; text-align: right;\"></th><th title = \"String\" style = \"text-align: left;\">String</th><th title = \"Int64\" style = \"text-align: left;\">Int64</th></tr></thead><tbody><tr><td class = \"rowNumber\" style = \"font-weight: bold; text-align: right;\">1</td><td style = \"text-align: left;\">rownames</td><td style = \"text-align: right;\">0</td></tr><tr><td class = \"rowNumber\" style = \"font-weight: bold; text-align: right;\">2</td><td style = \"text-align: left;\">wage</td><td style = \"text-align: right;\">0</td></tr><tr><td class = \"rowNumber\" style = \"font-weight: bold; text-align: right;\">3</td><td style = \"text-align: left;\">lwage</td><td style = \"text-align: right;\">0</td></tr><tr><td class = \"rowNumber\" style = \"font-weight: bold; text-align: right;\">4</td><td style = \"text-align: left;\">sex</td><td style = \"text-align: right;\">0</td></tr><tr><td class = \"rowNumber\" style = \"font-weight: bold; text-align: right;\">5</td><td style = \"text-align: left;\">shs</td><td style = \"text-align: right;\">0</td></tr><tr><td class = \"rowNumber\" style = \"font-weight: bold; text-align: right;\">6</td><td style = \"text-align: left;\">hsg</td><td style = \"text-align: right;\">0</td></tr><tr><td class = \"rowNumber\" style = \"font-weight: bold; text-align: right;\">7</td><td style = \"text-align: left;\">scl</td><td style = \"text-align: right;\">0</td></tr><tr><td class = \"rowNumber\" style = \"font-weight: bold; text-align: right;\">8</td><td style = \"text-align: left;\">clg</td><td style = \"text-align: right;\">0</td></tr><tr><td class = \"rowNumber\" style = \"font-weight: bold; text-align: right;\">9</td><td style = \"text-align: left;\">ad</td><td style = \"text-align: right;\">0</td></tr><tr><td class = \"rowNumber\" style = \"font-weight: bold; text-align: right;\">10</td><td style = \"text-align: left;\">mw</td><td style = \"text-align: right;\">0</td></tr><tr><td class = \"rowNumber\" style = \"font-weight: bold; text-align: right;\">11</td><td style = \"text-align: left;\">so</td><td style = \"text-align: right;\">0</td></tr><tr><td class = \"rowNumber\" style = \"font-weight: bold; text-align: right;\">12</td><td style = \"text-align: left;\">we</td><td style = \"text-align: right;\">0</td></tr><tr><td class = \"rowNumber\" style = \"font-weight: bold; text-align: right;\">13</td><td style = \"text-align: left;\">ne</td><td style = \"text-align: right;\">0</td></tr><tr><td class = \"rowNumber\" style = \"font-weight: bold; text-align: right;\">14</td><td style = \"text-align: left;\">exp1</td><td style = \"text-align: right;\">0</td></tr><tr><td class = \"rowNumber\" style = \"font-weight: bold; text-align: right;\">15</td><td style = \"text-align: left;\">exp2</td><td style = \"text-align: right;\">0</td></tr><tr><td class = \"rowNumber\" style = \"font-weight: bold; text-align: right;\">16</td><td style = \"text-align: left;\">exp3</td><td style = \"text-align: right;\">0</td></tr><tr><td class = \"rowNumber\" style = \"font-weight: bold; text-align: right;\">17</td><td style = \"text-align: left;\">exp4</td><td style = \"text-align: right;\">0</td></tr><tr><td class = \"rowNumber\" style = \"font-weight: bold; text-align: right;\">18</td><td style = \"text-align: left;\">occ</td><td style = \"text-align: right;\">0</td></tr><tr><td class = \"rowNumber\" style = \"font-weight: bold; text-align: right;\">19</td><td style = \"text-align: left;\">occ2</td><td style = \"text-align: right;\">0</td></tr><tr><td class = \"rowNumber\" style = \"font-weight: bold; text-align: right;\">20</td><td style = \"text-align: left;\">ind</td><td style = \"text-align: right;\">0</td></tr><tr><td class = \"rowNumber\" style = \"font-weight: bold; text-align: right;\">21</td><td style = \"text-align: left;\">ind2</td><td style = \"text-align: right;\">0</td></tr></tbody></table></div>"
            ],
            "text/latex": [
              "\\begin{tabular}{r|cc}\n",
              "\t& variable & missing\\_count\\\\\n",
              "\t\\hline\n",
              "\t& String & Int64\\\\\n",
              "\t\\hline\n",
              "\t1 & rownames & 0 \\\\\n",
              "\t2 & wage & 0 \\\\\n",
              "\t3 & lwage & 0 \\\\\n",
              "\t4 & sex & 0 \\\\\n",
              "\t5 & shs & 0 \\\\\n",
              "\t6 & hsg & 0 \\\\\n",
              "\t7 & scl & 0 \\\\\n",
              "\t8 & clg & 0 \\\\\n",
              "\t9 & ad & 0 \\\\\n",
              "\t10 & mw & 0 \\\\\n",
              "\t11 & so & 0 \\\\\n",
              "\t12 & we & 0 \\\\\n",
              "\t13 & ne & 0 \\\\\n",
              "\t14 & exp1 & 0 \\\\\n",
              "\t15 & exp2 & 0 \\\\\n",
              "\t16 & exp3 & 0 \\\\\n",
              "\t17 & exp4 & 0 \\\\\n",
              "\t18 & occ & 0 \\\\\n",
              "\t19 & occ2 & 0 \\\\\n",
              "\t20 & ind & 0 \\\\\n",
              "\t21 & ind2 & 0 \\\\\n",
              "\\end{tabular}\n"
            ],
            "text/plain": [
              "\u001b[1m21×2 DataFrame\u001b[0m\n",
              "\u001b[1m Row \u001b[0m│\u001b[1m variable \u001b[0m\u001b[1m missing_count \u001b[0m\n",
              "     │\u001b[90m String   \u001b[0m\u001b[90m Int64         \u001b[0m\n",
              "─────┼─────────────────────────\n",
              "   1 │ rownames              0\n",
              "   2 │ wage                  0\n",
              "   3 │ lwage                 0\n",
              "   4 │ sex                   0\n",
              "   5 │ shs                   0\n",
              "   6 │ hsg                   0\n",
              "   7 │ scl                   0\n",
              "   8 │ clg                   0\n",
              "   9 │ ad                    0\n",
              "  10 │ mw                    0\n",
              "  11 │ so                    0\n",
              "  12 │ we                    0\n",
              "  13 │ ne                    0\n",
              "  14 │ exp1                  0\n",
              "  15 │ exp2                  0\n",
              "  16 │ exp3                  0\n",
              "  17 │ exp4                  0\n",
              "  18 │ occ                   0\n",
              "  19 │ occ2                  0\n",
              "  20 │ ind                   0\n",
              "  21 │ ind2                  0"
            ]
          },
          "execution_count": 7,
          "metadata": {},
          "output_type": "execute_result"
        }
      ],
      "source": [
        "# Contar los missing values en cada columna\n",
        "missing_count = map(col -> sum(ismissing.(data[:, col])), names(data))\n",
        "\n",
        "# Crear un DataFrame para mostrar los resultados\n",
        "missing_data = DataFrame(variable = names(data), missing_count = missing_count)\n",
        "missing_data"
      ]
    },
    {
      "cell_type": "markdown",
      "metadata": {
        "id": "nQBJC0qk_qfN"
      },
      "source": [
        "**3. Report descriptive statistics of the variables (mean, standard deviation, percentiles, etc.). Interpret your results.**"
      ]
    },
    {
      "cell_type": "code",
      "execution_count": 8,
      "metadata": {
        "colab": {
          "base_uri": "https://localhost:8080/",
          "height": 546
        },
        "id": "xGKhLu1xLefo",
        "outputId": "949c789b-2989-40de-c03a-aa6012ad7415"
      },
      "outputs": [
        {
          "data": {
            "text/html": [
              "<div><div style = \"float: left;\"><span>21×7 DataFrame</span></div><div style = \"clear: both;\"></div></div><div class = \"data-frame\" style = \"overflow-x: scroll;\"><table class = \"data-frame\" style = \"margin-bottom: 6px;\"><thead><tr class = \"header\"><th class = \"rowNumber\" style = \"font-weight: bold; text-align: right;\">Row</th><th style = \"text-align: left;\">variable</th><th style = \"text-align: left;\">mean</th><th style = \"text-align: left;\">min</th><th style = \"text-align: left;\">median</th><th style = \"text-align: left;\">max</th><th style = \"text-align: left;\">nmissing</th><th style = \"text-align: left;\">eltype</th></tr><tr class = \"subheader headerLastRow\"><th class = \"rowNumber\" style = \"font-weight: bold; text-align: right;\"></th><th title = \"Symbol\" style = \"text-align: left;\">Symbol</th><th title = \"Float64\" style = \"text-align: left;\">Float64</th><th title = \"Real\" style = \"text-align: left;\">Real</th><th title = \"Float64\" style = \"text-align: left;\">Float64</th><th title = \"Real\" style = \"text-align: left;\">Real</th><th title = \"Int64\" style = \"text-align: left;\">Int64</th><th title = \"DataType\" style = \"text-align: left;\">DataType</th></tr></thead><tbody><tr><td class = \"rowNumber\" style = \"font-weight: bold; text-align: right;\">1</td><td style = \"text-align: left;\">rownames</td><td style = \"text-align: right;\">15636.3</td><td style = \"text-align: right;\">10</td><td style = \"text-align: right;\">15260.0</td><td style = \"text-align: right;\">32643</td><td style = \"text-align: right;\">0</td><td style = \"text-align: left;\">Int64</td></tr><tr><td class = \"rowNumber\" style = \"font-weight: bold; text-align: right;\">2</td><td style = \"text-align: left;\">wage</td><td style = \"text-align: right;\">23.4104</td><td style = \"text-align: right;\">3.02198</td><td style = \"text-align: right;\">19.2308</td><td style = \"text-align: right;\">528.846</td><td style = \"text-align: right;\">0</td><td style = \"text-align: left;\">Float64</td></tr><tr><td class = \"rowNumber\" style = \"font-weight: bold; text-align: right;\">3</td><td style = \"text-align: left;\">lwage</td><td style = \"text-align: right;\">2.97079</td><td style = \"text-align: right;\">1.10591</td><td style = \"text-align: right;\">2.95651</td><td style = \"text-align: right;\">6.2707</td><td style = \"text-align: right;\">0</td><td style = \"text-align: left;\">Float64</td></tr><tr><td class = \"rowNumber\" style = \"font-weight: bold; text-align: right;\">4</td><td style = \"text-align: left;\">sex</td><td style = \"text-align: right;\">0.444466</td><td style = \"text-align: right;\">0.0</td><td style = \"text-align: right;\">0.0</td><td style = \"text-align: right;\">1.0</td><td style = \"text-align: right;\">0</td><td style = \"text-align: left;\">Float64</td></tr><tr><td class = \"rowNumber\" style = \"font-weight: bold; text-align: right;\">5</td><td style = \"text-align: left;\">shs</td><td style = \"text-align: right;\">0.023301</td><td style = \"text-align: right;\">0.0</td><td style = \"text-align: right;\">0.0</td><td style = \"text-align: right;\">1.0</td><td style = \"text-align: right;\">0</td><td style = \"text-align: left;\">Float64</td></tr><tr><td class = \"rowNumber\" style = \"font-weight: bold; text-align: right;\">6</td><td style = \"text-align: left;\">hsg</td><td style = \"text-align: right;\">0.243883</td><td style = \"text-align: right;\">0.0</td><td style = \"text-align: right;\">0.0</td><td style = \"text-align: right;\">1.0</td><td style = \"text-align: right;\">0</td><td style = \"text-align: left;\">Float64</td></tr><tr><td class = \"rowNumber\" style = \"font-weight: bold; text-align: right;\">7</td><td style = \"text-align: left;\">scl</td><td style = \"text-align: right;\">0.278058</td><td style = \"text-align: right;\">0.0</td><td style = \"text-align: right;\">0.0</td><td style = \"text-align: right;\">1.0</td><td style = \"text-align: right;\">0</td><td style = \"text-align: left;\">Float64</td></tr><tr><td class = \"rowNumber\" style = \"font-weight: bold; text-align: right;\">8</td><td style = \"text-align: left;\">clg</td><td style = \"text-align: right;\">0.31767</td><td style = \"text-align: right;\">0.0</td><td style = \"text-align: right;\">0.0</td><td style = \"text-align: right;\">1.0</td><td style = \"text-align: right;\">0</td><td style = \"text-align: left;\">Float64</td></tr><tr><td class = \"rowNumber\" style = \"font-weight: bold; text-align: right;\">9</td><td style = \"text-align: left;\">ad</td><td style = \"text-align: right;\">0.137087</td><td style = \"text-align: right;\">0.0</td><td style = \"text-align: right;\">0.0</td><td style = \"text-align: right;\">1.0</td><td style = \"text-align: right;\">0</td><td style = \"text-align: left;\">Float64</td></tr><tr><td class = \"rowNumber\" style = \"font-weight: bold; text-align: right;\">10</td><td style = \"text-align: left;\">mw</td><td style = \"text-align: right;\">0.259612</td><td style = \"text-align: right;\">0.0</td><td style = \"text-align: right;\">0.0</td><td style = \"text-align: right;\">1.0</td><td style = \"text-align: right;\">0</td><td style = \"text-align: left;\">Float64</td></tr><tr><td class = \"rowNumber\" style = \"font-weight: bold; text-align: right;\">11</td><td style = \"text-align: left;\">so</td><td style = \"text-align: right;\">0.296505</td><td style = \"text-align: right;\">0.0</td><td style = \"text-align: right;\">0.0</td><td style = \"text-align: right;\">1.0</td><td style = \"text-align: right;\">0</td><td style = \"text-align: left;\">Float64</td></tr><tr><td class = \"rowNumber\" style = \"font-weight: bold; text-align: right;\">12</td><td style = \"text-align: left;\">we</td><td style = \"text-align: right;\">0.216117</td><td style = \"text-align: right;\">0.0</td><td style = \"text-align: right;\">0.0</td><td style = \"text-align: right;\">1.0</td><td style = \"text-align: right;\">0</td><td style = \"text-align: left;\">Float64</td></tr><tr><td class = \"rowNumber\" style = \"font-weight: bold; text-align: right;\">13</td><td style = \"text-align: left;\">ne</td><td style = \"text-align: right;\">0.227767</td><td style = \"text-align: right;\">0.0</td><td style = \"text-align: right;\">0.0</td><td style = \"text-align: right;\">1.0</td><td style = \"text-align: right;\">0</td><td style = \"text-align: left;\">Float64</td></tr><tr><td class = \"rowNumber\" style = \"font-weight: bold; text-align: right;\">14</td><td style = \"text-align: left;\">exp1</td><td style = \"text-align: right;\">13.7606</td><td style = \"text-align: right;\">0.0</td><td style = \"text-align: right;\">10.0</td><td style = \"text-align: right;\">47.0</td><td style = \"text-align: right;\">0</td><td style = \"text-align: left;\">Float64</td></tr><tr><td class = \"rowNumber\" style = \"font-weight: bold; text-align: right;\">15</td><td style = \"text-align: left;\">exp2</td><td style = \"text-align: right;\">3.01893</td><td style = \"text-align: right;\">0.0</td><td style = \"text-align: right;\">1.0</td><td style = \"text-align: right;\">22.09</td><td style = \"text-align: right;\">0</td><td style = \"text-align: left;\">Float64</td></tr><tr><td class = \"rowNumber\" style = \"font-weight: bold; text-align: right;\">16</td><td style = \"text-align: left;\">exp3</td><td style = \"text-align: right;\">8.23587</td><td style = \"text-align: right;\">0.0</td><td style = \"text-align: right;\">1.0</td><td style = \"text-align: right;\">103.823</td><td style = \"text-align: right;\">0</td><td style = \"text-align: left;\">Float64</td></tr><tr><td class = \"rowNumber\" style = \"font-weight: bold; text-align: right;\">17</td><td style = \"text-align: left;\">exp4</td><td style = \"text-align: right;\">25.118</td><td style = \"text-align: right;\">0.0</td><td style = \"text-align: right;\">1.0</td><td style = \"text-align: right;\">487.968</td><td style = \"text-align: right;\">0</td><td style = \"text-align: left;\">Float64</td></tr><tr><td class = \"rowNumber\" style = \"font-weight: bold; text-align: right;\">18</td><td style = \"text-align: left;\">occ</td><td style = \"text-align: right;\">5310.74</td><td style = \"text-align: right;\">10.0</td><td style = \"text-align: right;\">4040.0</td><td style = \"text-align: right;\">100000.0</td><td style = \"text-align: right;\">0</td><td style = \"text-align: left;\">Float64</td></tr><tr><td class = \"rowNumber\" style = \"font-weight: bold; text-align: right;\">19</td><td style = \"text-align: left;\">occ2</td><td style = \"text-align: right;\">11.6709</td><td style = \"text-align: right;\">1</td><td style = \"text-align: right;\">13.0</td><td style = \"text-align: right;\">22</td><td style = \"text-align: right;\">0</td><td style = \"text-align: left;\">Int64</td></tr><tr><td class = \"rowNumber\" style = \"font-weight: bold; text-align: right;\">20</td><td style = \"text-align: left;\">ind</td><td style = \"text-align: right;\">6629.15</td><td style = \"text-align: right;\">370.0</td><td style = \"text-align: right;\">7370.0</td><td style = \"text-align: right;\">100000.0</td><td style = \"text-align: right;\">0</td><td style = \"text-align: left;\">Float64</td></tr><tr><td class = \"rowNumber\" style = \"font-weight: bold; text-align: right;\">21</td><td style = \"text-align: left;\">ind2</td><td style = \"text-align: right;\">13.3169</td><td style = \"text-align: right;\">2</td><td style = \"text-align: right;\">14.0</td><td style = \"text-align: right;\">22</td><td style = \"text-align: right;\">0</td><td style = \"text-align: left;\">Int64</td></tr></tbody></table></div>"
            ],
            "text/latex": [
              "\\begin{tabular}{r|ccccccc}\n",
              "\t& variable & mean & min & median & max & nmissing & eltype\\\\\n",
              "\t\\hline\n",
              "\t& Symbol & Float64 & Real & Float64 & Real & Int64 & DataType\\\\\n",
              "\t\\hline\n",
              "\t1 & rownames & 15636.3 & 10 & 15260.0 & 32643 & 0 & Int64 \\\\\n",
              "\t2 & wage & 23.4104 & 3.02198 & 19.2308 & 528.846 & 0 & Float64 \\\\\n",
              "\t3 & lwage & 2.97079 & 1.10591 & 2.95651 & 6.2707 & 0 & Float64 \\\\\n",
              "\t4 & sex & 0.444466 & 0.0 & 0.0 & 1.0 & 0 & Float64 \\\\\n",
              "\t5 & shs & 0.023301 & 0.0 & 0.0 & 1.0 & 0 & Float64 \\\\\n",
              "\t6 & hsg & 0.243883 & 0.0 & 0.0 & 1.0 & 0 & Float64 \\\\\n",
              "\t7 & scl & 0.278058 & 0.0 & 0.0 & 1.0 & 0 & Float64 \\\\\n",
              "\t8 & clg & 0.31767 & 0.0 & 0.0 & 1.0 & 0 & Float64 \\\\\n",
              "\t9 & ad & 0.137087 & 0.0 & 0.0 & 1.0 & 0 & Float64 \\\\\n",
              "\t10 & mw & 0.259612 & 0.0 & 0.0 & 1.0 & 0 & Float64 \\\\\n",
              "\t11 & so & 0.296505 & 0.0 & 0.0 & 1.0 & 0 & Float64 \\\\\n",
              "\t12 & we & 0.216117 & 0.0 & 0.0 & 1.0 & 0 & Float64 \\\\\n",
              "\t13 & ne & 0.227767 & 0.0 & 0.0 & 1.0 & 0 & Float64 \\\\\n",
              "\t14 & exp1 & 13.7606 & 0.0 & 10.0 & 47.0 & 0 & Float64 \\\\\n",
              "\t15 & exp2 & 3.01893 & 0.0 & 1.0 & 22.09 & 0 & Float64 \\\\\n",
              "\t16 & exp3 & 8.23587 & 0.0 & 1.0 & 103.823 & 0 & Float64 \\\\\n",
              "\t17 & exp4 & 25.118 & 0.0 & 1.0 & 487.968 & 0 & Float64 \\\\\n",
              "\t18 & occ & 5310.74 & 10.0 & 4040.0 & 100000.0 & 0 & Float64 \\\\\n",
              "\t19 & occ2 & 11.6709 & 1 & 13.0 & 22 & 0 & Int64 \\\\\n",
              "\t20 & ind & 6629.15 & 370.0 & 7370.0 & 100000.0 & 0 & Float64 \\\\\n",
              "\t21 & ind2 & 13.3169 & 2 & 14.0 & 22 & 0 & Int64 \\\\\n",
              "\\end{tabular}\n"
            ],
            "text/plain": [
              "\u001b[1m21×7 DataFrame\u001b[0m\n",
              "\u001b[1m Row \u001b[0m│\u001b[1m variable \u001b[0m\u001b[1m mean         \u001b[0m\u001b[1m min       \u001b[0m\u001b[1m median      \u001b[0m\u001b[1m max         \u001b[0m\u001b[1m nmissing \u001b[0m\u001b[1m eltype   \u001b[0m\n",
              "     │\u001b[90m Symbol   \u001b[0m\u001b[90m Float64      \u001b[0m\u001b[90m Real      \u001b[0m\u001b[90m Float64     \u001b[0m\u001b[90m Real        \u001b[0m\u001b[90m Int64    \u001b[0m\u001b[90m DataType \u001b[0m\n",
              "─────┼─────────────────────────────────────────────────────────────────────────────────\n",
              "   1 │ rownames  15636.3        10        15260.0       32643              0  Int64\n",
              "   2 │ wage         23.4104      3.02198     19.2308      528.846          0  Float64\n",
              "   3 │ lwage         2.97079     1.10591      2.95651       6.2707         0  Float64\n",
              "   4 │ sex           0.444466    0.0          0.0           1.0            0  Float64\n",
              "   5 │ shs           0.023301    0.0          0.0           1.0            0  Float64\n",
              "   6 │ hsg           0.243883    0.0          0.0           1.0            0  Float64\n",
              "   7 │ scl           0.278058    0.0          0.0           1.0            0  Float64\n",
              "   8 │ clg           0.31767     0.0          0.0           1.0            0  Float64\n",
              "   9 │ ad            0.137087    0.0          0.0           1.0            0  Float64\n",
              "  10 │ mw            0.259612    0.0          0.0           1.0            0  Float64\n",
              "  11 │ so            0.296505    0.0          0.0           1.0            0  Float64\n",
              "  12 │ we            0.216117    0.0          0.0           1.0            0  Float64\n",
              "  13 │ ne            0.227767    0.0          0.0           1.0            0  Float64\n",
              "  14 │ exp1         13.7606      0.0         10.0          47.0            0  Float64\n",
              "  15 │ exp2          3.01893     0.0          1.0          22.09           0  Float64\n",
              "  16 │ exp3          8.23587     0.0          1.0         103.823          0  Float64\n",
              "  17 │ exp4         25.118       0.0          1.0         487.968          0  Float64\n",
              "  18 │ occ        5310.74       10.0       4040.0      100000.0            0  Float64\n",
              "  19 │ occ2         11.6709      1           13.0          22              0  Int64\n",
              "  20 │ ind        6629.15      370.0       7370.0      100000.0            0  Float64\n",
              "  21 │ ind2         13.3169      2           14.0          22              0  Int64"
            ]
          },
          "execution_count": 8,
          "metadata": {},
          "output_type": "execute_result"
        }
      ],
      "source": [
        "# Se obtienen los estadísticas descriptivas\n",
        "stats = describe(data)\n",
        "stats\n"
      ]
    },
    {
      "cell_type": "markdown",
      "metadata": {
        "id": "_5JeluoC_0pK"
      },
      "source": [
        "Los estadísticos descriptivos muestran que las variables en el conjunto de datos tienen una distribución variada, con salarios que van desde 3.02 hasta 528.85, y una media de 23.41. Las variables categóricas como sex indican que aproximadamente el 44.4% de los individuos pertenecen a una categoría específica, mientras que las variables de experiencia (exp1, exp2, etc.) presentan rangos amplios, con un máximo de 487.97 para exp4. No hay valores faltantes en las variables, y algunas, como wage y exp4, presentan posibles valores extremos, lo que sugiere la necesidad de revisar la presencia de outliers en el análisis."
      ]
    },
    {
      "cell_type": "markdown",
      "metadata": {
        "id": "7jXIcpMz_5Nh"
      },
      "source": [
        "**4. How many women with a college graduate degree (clg) or above have a wage corresponding to the 25% richest of the sample? Report the dataframe corresponding to this conditions and the result.**"
      ]
    },
    {
      "cell_type": "code",
      "execution_count": 11,
      "metadata": {
        "colab": {
          "base_uri": "https://localhost:8080/"
        },
        "collapsed": true,
        "id": "IdIo4h5FMJCj",
        "outputId": "3b0abb93-0f3b-4899-be41-3c0038aeffba"
      },
      "outputs": [
        {
          "data": {
            "text/plain": [
              "(\u001b[1m419×21 DataFrame\u001b[0m\n",
              "\u001b[1m Row \u001b[0m│\u001b[1m rownames \u001b[0m\u001b[1m wage     \u001b[0m\u001b[1m lwage   \u001b[0m\u001b[1m sex     \u001b[0m\u001b[1m shs     \u001b[0m\u001b[1m hsg     \u001b[0m\u001b[1m scl     \u001b[0m\u001b[1m clg     \u001b[0m\u001b[1m ad      \u001b[0m\u001b[1m mw      \u001b[0m\u001b[1m\u001b[0m ⋯\n",
              "     │\u001b[90m Int64    \u001b[0m\u001b[90m Float64  \u001b[0m\u001b[90m Float64 \u001b[0m\u001b[90m Float64 \u001b[0m\u001b[90m Float64 \u001b[0m\u001b[90m Float64 \u001b[0m\u001b[90m Float64 \u001b[0m\u001b[90m Float64 \u001b[0m\u001b[90m Float64 \u001b[0m\u001b[90m Float64 \u001b[0m\u001b[90m\u001b[0m ⋯\n",
              "─────┼──────────────────────────────────────────────────────────────────────────────────────────────\n",
              "   1 │       19   28.8462  3.36198      1.0      0.0      0.0      0.0      1.0      0.0      0.0  ⋯\n",
              "   2 │      191   42.3077  3.74497      1.0      0.0      0.0      0.0      0.0      1.0      0.0\n",
              "   3 │      232   41.2088  3.71865      1.0      0.0      0.0      0.0      1.0      0.0      0.0\n",
              "   4 │      319  100.0     4.60517      1.0      0.0      0.0      0.0      0.0      1.0      0.0\n",
              "   5 │      563   33.6538  3.51613      1.0      0.0      0.0      0.0      1.0      0.0      0.0  ⋯\n",
              "   6 │      842   36.0577  3.58512      1.0      0.0      0.0      0.0      1.0      0.0      0.0\n",
              "   7 │      865   31.25    3.44202      1.0      0.0      0.0      0.0      1.0      0.0      0.0\n",
              "   8 │      892   28.8462  3.36198      1.0      0.0      0.0      0.0      1.0      0.0      0.0\n",
              "   9 │     1052   48.0769  3.8728       1.0      0.0      0.0      0.0      1.0      0.0      0.0  ⋯\n",
              "  10 │     1076   34.6154  3.5443       1.0      0.0      0.0      0.0      1.0      0.0      0.0\n",
              "  11 │     1238   31.25    3.44202      1.0      0.0      0.0      0.0      0.0      1.0      0.0\n",
              "  ⋮  │    ⋮         ⋮         ⋮        ⋮        ⋮        ⋮        ⋮        ⋮        ⋮        ⋮     ⋱\n",
              " 410 │    31850   40.3846  3.69845      1.0      0.0      0.0      0.0      1.0      0.0      0.0\n",
              " 411 │    31893   65.3846  4.18029      1.0      0.0      0.0      0.0      0.0      1.0      0.0  ⋯\n",
              " 412 │    31926   29.4872  3.38396      1.0      0.0      0.0      0.0      1.0      0.0      0.0\n",
              " 413 │    31956   28.8462  3.36198      1.0      0.0      0.0      0.0      0.0      1.0      0.0\n",
              " 414 │    32160   50.3635  3.91927      1.0      0.0      0.0      0.0      0.0      1.0      0.0\n",
              " 415 │    32251   48.0769  3.8728       1.0      0.0      0.0      0.0      0.0      1.0      0.0  ⋯\n",
              " 416 │    32314   30.1455  3.40604      1.0      0.0      0.0      0.0      1.0      0.0      0.0\n",
              " 417 │    32419   29.9145  3.39834      1.0      0.0      0.0      0.0      1.0      0.0      0.0\n",
              " 418 │    32567   48.0769  3.8728       1.0      0.0      0.0      0.0      1.0      0.0      0.0\n",
              " 419 │    32596   45.5466  3.81874      1.0      0.0      0.0      0.0      1.0      0.0      0.0  ⋯\n",
              "\u001b[36m                                                                     11 columns and 398 rows omitted\u001b[0m, 419)"
            ]
          },
          "execution_count": 11,
          "metadata": {},
          "output_type": "execute_result"
        }
      ],
      "source": [
        "using Statistics\n",
        "\n",
        "# 1:Solo mujeres con un grado universitario o superior\n",
        "women_clg_above = data[(data[!, \"sex\"] .== 1) .&& (data[!, \"clg\"] .== 1 .|| data[!, \"ad\"] .== 1), :]\n",
        "\n",
        "# 2: Percentil 75 del logaritmo del salario (log(wage))\n",
        "percentile_75 = quantile(data[!, \"lwage\"], 0.75)\n",
        "\n",
        "# 3: Mujeres que están en el 25% más rico\n",
        "rich_women_clg_above = women_clg_above[women_clg_above[!, \"lwage\"] .>= percentile_75, :]\n",
        "\n",
        "rich_women_clg_above, size(rich_women_clg_above, 1)\n"
      ]
    },
    {
      "cell_type": "markdown",
      "metadata": {
        "id": "CgLoYbeiAIqj"
      },
      "source": [
        "**5. How many men with a high school graduate degree (hsg) or below have a wage corresponding to the 25% richest of the sample? Report the dataframe corresponding to this conditions and the result.**"
      ]
    },
    {
      "cell_type": "code",
      "execution_count": 12,
      "metadata": {
        "colab": {
          "base_uri": "https://localhost:8080/"
        },
        "id": "YgOdTaI0M4Oi",
        "outputId": "812d7885-f579-434e-d174-fccc29871c9a"
      },
      "outputs": [
        {
          "data": {
            "text/plain": [
              "(\u001b[1m118×21 DataFrame\u001b[0m\n",
              "\u001b[1m Row \u001b[0m│\u001b[1m rownames \u001b[0m\u001b[1m wage     \u001b[0m\u001b[1m lwage   \u001b[0m\u001b[1m sex     \u001b[0m\u001b[1m shs     \u001b[0m\u001b[1m hsg     \u001b[0m\u001b[1m scl     \u001b[0m\u001b[1m clg     \u001b[0m\u001b[1m ad      \u001b[0m\u001b[1m mw      \u001b[0m\u001b[1m\u001b[0m ⋯\n",
              "     │\u001b[90m Int64    \u001b[0m\u001b[90m Float64  \u001b[0m\u001b[90m Float64 \u001b[0m\u001b[90m Float64 \u001b[0m\u001b[90m Float64 \u001b[0m\u001b[90m Float64 \u001b[0m\u001b[90m Float64 \u001b[0m\u001b[90m Float64 \u001b[0m\u001b[90m Float64 \u001b[0m\u001b[90m Float64 \u001b[0m\u001b[90m\u001b[0m ⋯\n",
              "─────┼──────────────────────────────────────────────────────────────────────────────────────────────\n",
              "   1 │      113   27.8846  3.32808      0.0      0.0      1.0      0.0      0.0      0.0      0.0  ⋯\n",
              "   2 │      276   28.8462  3.36198      0.0      0.0      1.0      0.0      0.0      0.0      0.0\n",
              "   3 │      467   28.8462  3.36198      0.0      0.0      1.0      0.0      0.0      0.0      0.0\n",
              "   4 │      858   28.8462  3.36198      0.0      0.0      1.0      0.0      0.0      0.0      0.0\n",
              "   5 │      876   29.7143  3.39163      0.0      0.0      1.0      0.0      0.0      0.0      0.0  ⋯\n",
              "   6 │     1065   27.7778  3.32424      0.0      0.0      1.0      0.0      0.0      0.0      0.0\n",
              "   7 │     1359   35.5769  3.5717       0.0      0.0      1.0      0.0      0.0      0.0      0.0\n",
              "   8 │     1870   36.3248  3.5925       0.0      0.0      1.0      0.0      0.0      0.0      0.0\n",
              "   9 │     2194   43.2692  3.76744      0.0      0.0      1.0      0.0      0.0      0.0      0.0  ⋯\n",
              "  10 │     2214   43.2692  3.76744      0.0      0.0      1.0      0.0      0.0      0.0      0.0\n",
              "  11 │     2215   43.2692  3.76744      0.0      0.0      1.0      0.0      0.0      0.0      0.0\n",
              "  ⋮  │    ⋮         ⋮         ⋮        ⋮        ⋮        ⋮        ⋮        ⋮        ⋮        ⋮     ⋱\n",
              " 109 │    31767   38.4615  3.64966      0.0      0.0      1.0      0.0      0.0      0.0      0.0\n",
              " 110 │    31792   48.0774  3.87281      0.0      0.0      1.0      0.0      0.0      0.0      0.0  ⋯\n",
              " 111 │    31828  115.385   4.74827      0.0      0.0      1.0      0.0      0.0      0.0      0.0\n",
              " 112 │    31922   33.6538  3.51613      0.0      0.0      1.0      0.0      0.0      0.0      0.0\n",
              " 113 │    32075   43.2692  3.76744      0.0      1.0      0.0      0.0      0.0      0.0      0.0\n",
              " 114 │    32191   33.6538  3.51613      0.0      0.0      1.0      0.0      0.0      0.0      0.0  ⋯\n",
              " 115 │    32254   40.8654  3.71028      0.0      0.0      1.0      0.0      0.0      0.0      0.0\n",
              " 116 │    32281   31.25    3.44202      0.0      0.0      1.0      0.0      0.0      0.0      0.0\n",
              " 117 │    32321   33.6538  3.51613      0.0      0.0      1.0      0.0      0.0      0.0      0.0\n",
              " 118 │    32631   32.967   3.49551      0.0      0.0      1.0      0.0      0.0      0.0      0.0  ⋯\n",
              "\u001b[36m                                                                      11 columns and 97 rows omitted\u001b[0m, 118)"
            ]
          },
          "execution_count": 12,
          "metadata": {},
          "output_type": "execute_result"
        }
      ],
      "source": [
        "# 1: Hombres graduados de secundaria (hsg) o menos (shs)\n",
        "men_hsg_below = data[(data[!, \"sex\"] .== 0) .&& (data[!, \"hsg\"] .== 1 .|| data[!, \"shs\"] .== 1), :]\n",
        "\n",
        "# 2: Percentil 75 del logaritmo del salario (log(wage))\n",
        "percentile_75 = quantile(data[!, \"lwage\"], 0.75)\n",
        "\n",
        "# 3: Hombres que están en el 25% más rico\n",
        "rich_men_hsg_below = men_hsg_below[men_hsg_below[!, \"lwage\"] .>= percentile_75, :]\n",
        "\n",
        "rich_men_hsg_below, size(rich_men_hsg_below, 1)\n"
      ]
    },
    {
      "cell_type": "markdown",
      "metadata": {
        "id": "VIQLjBy-AQG5"
      },
      "source": [
        "**6. Create two dataframes. One containing only the log(wage) and the other containig every variable of the data set but the wage related variables.**"
      ]
    },
    {
      "cell_type": "code",
      "execution_count": 13,
      "metadata": {
        "colab": {
          "base_uri": "https://localhost:8080/"
        },
        "id": "ZQS690otN5VC",
        "outputId": "e35a9e3f-a34c-4a52-960e-459acb23e661"
      },
      "outputs": [
        {
          "data": {
            "text/plain": [
              "(\u001b[1m5150×1 DataFrame\u001b[0m\n",
              "\u001b[1m  Row \u001b[0m│\u001b[1m lwage   \u001b[0m\n",
              "      │\u001b[90m Float64 \u001b[0m\n",
              "──────┼─────────\n",
              "    1 │ 2.26336\n",
              "    2 │ 3.8728\n",
              "    3 │ 2.40313\n",
              "    4 │ 2.63493\n",
              "    5 │ 3.36198\n",
              "    6 │ 2.46222\n",
              "    7 │ 2.95651\n",
              "    8 │ 2.95651\n",
              "    9 │ 2.48491\n",
              "   10 │ 2.95651\n",
              "   11 │ 2.85115\n",
              "  ⋮   │    ⋮\n",
              " 5141 │ 3.81874\n",
              " 5142 │ 3.11778\n",
              " 5143 │ 2.82298\n",
              " 5144 │ 3.17966\n",
              " 5145 │ 2.62801\n",
              " 5146 │ 2.69255\n",
              " 5147 │ 3.13883\n",
              " 5148 │ 3.64966\n",
              " 5149 │ 3.49551\n",
              " 5150 │ 2.85115\n",
              "\u001b[36m5129 rows omitted\u001b[0m, \u001b[1m5150×19 DataFrame\u001b[0m\n",
              "\u001b[1m  Row \u001b[0m│\u001b[1m rownames \u001b[0m\u001b[1m sex     \u001b[0m\u001b[1m shs     \u001b[0m\u001b[1m hsg     \u001b[0m\u001b[1m scl     \u001b[0m\u001b[1m clg     \u001b[0m\u001b[1m ad      \u001b[0m\u001b[1m mw      \u001b[0m\u001b[1m so      \u001b[0m\u001b[1m we      \u001b[0m\u001b[1m\u001b[0m ⋯\n",
              "      │\u001b[90m Int64    \u001b[0m\u001b[90m Float64 \u001b[0m\u001b[90m Float64 \u001b[0m\u001b[90m Float64 \u001b[0m\u001b[90m Float64 \u001b[0m\u001b[90m Float64 \u001b[0m\u001b[90m Float64 \u001b[0m\u001b[90m Float64 \u001b[0m\u001b[90m Float64 \u001b[0m\u001b[90m Float64 \u001b[0m\u001b[90m\u001b[0m ⋯\n",
              "──────┼─────────────────────────────────────────────────────────────────────────────────────────────\n",
              "    1 │       10      1.0      0.0      0.0      0.0      1.0      0.0      0.0      0.0      0.0  ⋯\n",
              "    2 │       12      0.0      0.0      0.0      0.0      1.0      0.0      0.0      0.0      0.0\n",
              "    3 │       15      0.0      0.0      1.0      0.0      0.0      0.0      0.0      0.0      0.0\n",
              "    4 │       18      1.0      0.0      0.0      0.0      0.0      1.0      0.0      0.0      0.0\n",
              "    5 │       19      1.0      0.0      0.0      0.0      1.0      0.0      0.0      0.0      0.0  ⋯\n",
              "    6 │       30      1.0      0.0      0.0      0.0      1.0      0.0      0.0      0.0      0.0\n",
              "    7 │       43      1.0      0.0      1.0      0.0      0.0      0.0      0.0      0.0      0.0\n",
              "    8 │       44      0.0      0.0      1.0      0.0      0.0      0.0      0.0      0.0      0.0\n",
              "    9 │       47      1.0      0.0      1.0      0.0      0.0      0.0      0.0      0.0      0.0  ⋯\n",
              "   10 │       71      1.0      0.0      0.0      0.0      1.0      0.0      0.0      0.0      0.0\n",
              "   11 │       73      1.0      0.0      1.0      0.0      0.0      0.0      0.0      0.0      0.0\n",
              "  ⋮   │    ⋮         ⋮        ⋮        ⋮        ⋮        ⋮        ⋮        ⋮        ⋮        ⋮     ⋱\n",
              " 5141 │    32596      1.0      0.0      0.0      0.0      1.0      0.0      0.0      0.0      1.0\n",
              " 5142 │    32599      0.0      0.0      1.0      0.0      0.0      0.0      0.0      0.0      1.0  ⋯\n",
              " 5143 │    32603      0.0      0.0      1.0      0.0      0.0      0.0      0.0      0.0      1.0\n",
              " 5144 │    32606      1.0      0.0      0.0      0.0      1.0      0.0      0.0      0.0      1.0\n",
              " 5145 │    32619      0.0      0.0      0.0      0.0      1.0      0.0      0.0      0.0      1.0\n",
              " 5146 │    32620      0.0      0.0      0.0      0.0      1.0      0.0      0.0      0.0      1.0  ⋯\n",
              " 5147 │    32624      1.0      0.0      0.0      1.0      0.0      0.0      0.0      0.0      1.0\n",
              " 5148 │    32626      0.0      0.0      0.0      0.0      0.0      1.0      0.0      0.0      1.0\n",
              " 5149 │    32631      0.0      0.0      1.0      0.0      0.0      0.0      0.0      0.0      1.0\n",
              " 5150 │    32643      0.0      0.0      0.0      0.0      0.0      1.0      0.0      0.0      1.0  ⋯\n",
              "\u001b[36m                                                                     9 columns and 5129 rows omitted\u001b[0m)"
            ]
          },
          "execution_count": 13,
          "metadata": {},
          "output_type": "execute_result"
        }
      ],
      "source": [
        "# DataFrame de la variable log(wage)\n",
        "df_log_wage = data[:, [\"lwage\"]]\n",
        "\n",
        "# DataFrame con todas las variables excepto salario\n",
        "df_no_wage = select(data, Not([\"lwage\", \"wage\"]))\n",
        "\n",
        "df_log_wage, df_no_wage\n"
      ]
    },
    {
      "cell_type": "markdown",
      "metadata": {
        "id": "m28w7Fk3AY9I"
      },
      "source": [
        "**2. Data wrangling**"
      ]
    },
    {
      "cell_type": "markdown",
      "metadata": {
        "id": "E6TQk-7tAasD"
      },
      "source": [
        "**7. Make an array for our  Y  variable, which will be the logarithm of wage (lwage column)**"
      ]
    },
    {
      "cell_type": "code",
      "execution_count": 14,
      "metadata": {
        "colab": {
          "base_uri": "https://localhost:8080/"
        },
        "id": "8QT4pL39N72P",
        "outputId": "cd828f2b-ee43-4722-f2d6-8260705f7b13"
      },
      "outputs": [
        {
          "data": {
            "text/plain": [
              "5150-element SentinelArrays.ChainedVector{Float64, Vector{Float64}}:\n",
              " 2.2633643798407643\n",
              " 3.872802292274865\n",
              " 2.403126322215923\n",
              " 2.634927936273247\n",
              " 3.361976668508874\n",
              " 2.4622152385859297\n",
              " 2.9565115604007097\n",
              " 2.9565115604007097\n",
              " 2.4849066497880004\n",
              " 2.9565115604007097\n",
              " 2.8511510447428834\n",
              " 2.486507931154974\n",
              " 2.486507931154974\n",
              " ⋮\n",
              " 2.981204172991081\n",
              " 3.0518217402050345\n",
              " 3.818735071004589\n",
              " 3.117779707996832\n",
              " 2.822980167776187\n",
              " 3.1796551117149194\n",
              " 2.6280074934286737\n",
              " 2.6925460145662448\n",
              " 3.138833117194664\n",
              " 3.649658740960655\n",
              " 3.4955080611333966\n",
              " 2.8511510447428834"
            ]
          },
          "execution_count": 14,
          "metadata": {},
          "output_type": "execute_result"
        }
      ],
      "source": [
        "# Crear un array para la variable Y, que es la columna lwage\n",
        "Y = data[!, \"lwage\"]\n",
        "\n",
        "# Mostrar el array Y\n",
        "Y\n"
      ]
    },
    {
      "cell_type": "markdown",
      "metadata": {
        "id": "5jjNtkWzBAqO"
      },
      "source": [
        "**8. Make three new arrays for our predictors:**"
      ]
    },
    {
      "cell_type": "markdown",
      "metadata": {
        "id": "pRCx1C0uBEHh"
      },
      "source": [
        "**8.1. The basic model will have the columns sex hsg scl clg ad so we ne exp1 occ2 ind2. Make sure to convert occ2 and ind2 to dummies and to drop the first dummy value to prevent multicolinearity.**"
      ]
    },
    {
      "cell_type": "markdown",
      "metadata": {
        "id": "D_8xWDXiBGrS"
      },
      "source": [
        "sex+exp1+hsg+scl+clg+ad+so+we+ne+dummy(occ2)+dummy(ind2)"
      ]
    },
    {
      "cell_type": "code",
      "execution_count": 17,
      "metadata": {
        "colab": {
          "base_uri": "https://localhost:8080/"
        },
        "id": "Wz5d5QDszUE9",
        "outputId": "91be6eff-1099-4e94-ebca-e5c1c4cf0c2e"
      },
      "outputs": [
        {
          "name": "stderr",
          "output_type": "stream",
          "text": [
            "\u001b[32m\u001b[1m   Resolving\u001b[22m\u001b[39m package versions...\n",
            "\u001b[32m\u001b[1m    Updating\u001b[22m\u001b[39m `~/.julia/environments/v1.8/Project.toml`\n",
            " \u001b[90m [3eaba693] \u001b[39m\u001b[92m+ StatsModels v0.7.4\u001b[39m\n",
            "\u001b[32m\u001b[1m  No Changes\u001b[22m\u001b[39m to `~/.julia/environments/v1.8/Manifest.toml`\n"
          ]
        }
      ],
      "source": [
        "Pkg.add(\"StatsModels\")"
      ]
    },
    {
      "cell_type": "code",
      "execution_count": 25,
      "metadata": {
        "colab": {
          "base_uri": "https://localhost:8080/"
        },
        "id": "v-rpzv5r03dB",
        "outputId": "392a6dc8-a7e4-4a4f-8f3f-c811b875c625"
      },
      "outputs": [
        {
          "name": "stderr",
          "output_type": "stream",
          "text": [
            "\u001b[32m\u001b[1m   Resolving\u001b[22m\u001b[39m package versions...\n",
            "\u001b[32m\u001b[1m   Installed\u001b[22m\u001b[39m CategoricalArrays ─ v0.10.8\n",
            "\u001b[32m\u001b[1m    Updating\u001b[22m\u001b[39m `~/.julia/environments/v1.8/Project.toml`\n",
            " \u001b[90m [324d7699] \u001b[39m\u001b[92m+ CategoricalArrays v0.10.8\u001b[39m\n",
            "\u001b[32m\u001b[1m    Updating\u001b[22m\u001b[39m `~/.julia/environments/v1.8/Manifest.toml`\n",
            " \u001b[90m [324d7699] \u001b[39m\u001b[92m+ CategoricalArrays v0.10.8\u001b[39m\n",
            "\u001b[32m\u001b[1mPrecompiling\u001b[22m\u001b[39m project...\n",
            "\u001b[32m  ✓ \u001b[39mCategoricalArrays\n",
            "  1 dependency successfully precompiled in 2 seconds. 194 already precompiled.\n"
          ]
        }
      ],
      "source": [
        "Pkg.add(\"CategoricalArrays\")"
      ]
    },
    {
      "cell_type": "code",
      "execution_count": 26,
      "metadata": {
        "colab": {
          "base_uri": "https://localhost:8080/"
        },
        "id": "OXuaIPK5R6s_",
        "outputId": "fee44f7d-1ea7-4628-b2ec-30fa018a7516"
      },
      "outputs": [
        {
          "data": {
            "text/plain": [
              "5150×11 Matrix{Any}:\n",
              " 1.0  0.0  0.0  1.0  0.0  0.0  0.0  1.0   7.0  \"11\"  \"18\"\n",
              " 0.0  0.0  0.0  1.0  0.0  0.0  0.0  1.0  31.0  \"10\"  \"9\"\n",
              " 0.0  1.0  0.0  0.0  0.0  0.0  0.0  1.0  18.0  \"19\"  \"4\"\n",
              " 1.0  0.0  0.0  0.0  1.0  0.0  0.0  1.0  25.0  \"1\"   \"12\"\n",
              " 1.0  0.0  0.0  1.0  0.0  0.0  0.0  1.0  22.0  \"6\"   \"22\"\n",
              " 1.0  0.0  0.0  1.0  0.0  0.0  0.0  1.0   1.0  \"5\"   \"14\"\n",
              " 1.0  1.0  0.0  0.0  0.0  0.0  0.0  1.0  42.0  \"17\"  \"14\"\n",
              " 0.0  1.0  0.0  0.0  0.0  0.0  0.0  1.0  37.0  \"17\"  \"9\"\n",
              " 1.0  1.0  0.0  0.0  0.0  0.0  0.0  1.0  31.0  \"13\"  \"19\"\n",
              " 1.0  0.0  0.0  1.0  0.0  0.0  0.0  1.0   4.0  \"10\"  \"18\"\n",
              " 1.0  1.0  0.0  0.0  0.0  0.0  0.0  1.0   7.0  \"13\"  \"18\"\n",
              " 0.0  1.0  0.0  0.0  0.0  0.0  0.0  1.0  30.0  \"14\"  \"18\"\n",
              " 1.0  0.0  1.0  0.0  0.0  0.0  0.0  1.0   5.5  \"11\"  \"18\"\n",
              " ⋮                        ⋮                          ⋮\n",
              " 1.0  0.0  0.0  0.0  1.0  0.0  1.0  0.0   8.0  \"6\"   \"18\"\n",
              " 0.0  0.0  0.0  1.0  0.0  0.0  1.0  0.0  28.0  \"1\"   \"21\"\n",
              " 1.0  0.0  0.0  1.0  0.0  0.0  1.0  0.0   5.0  \"10\"  \"18\"\n",
              " 0.0  1.0  0.0  0.0  0.0  0.0  1.0  0.0  15.0  \"22\"  \"9\"\n",
              " 0.0  1.0  0.0  0.0  0.0  0.0  1.0  0.0  11.0  \"20\"  \"21\"\n",
              " 1.0  0.0  0.0  1.0  0.0  0.0  1.0  0.0  17.0  \"8\"   \"22\"\n",
              " 0.0  0.0  0.0  1.0  0.0  0.0  1.0  0.0  10.0  \"2\"   \"4\"\n",
              " 0.0  0.0  0.0  1.0  0.0  0.0  1.0  0.0   9.0  \"16\"  \"9\"\n",
              " 1.0  0.0  1.0  0.0  0.0  0.0  1.0  0.0  12.0  \"13\"  \"20\"\n",
              " 0.0  0.0  0.0  0.0  1.0  0.0  1.0  0.0  11.0  \"4\"   \"6\"\n",
              " 0.0  1.0  0.0  0.0  0.0  0.0  1.0  0.0  10.0  \"9\"   \"11\"\n",
              " 0.0  0.0  0.0  0.0  1.0  0.0  1.0  0.0  14.0  \"5\"   \"14\""
            ]
          },
          "execution_count": 26,
          "metadata": {},
          "output_type": "execute_result"
        }
      ],
      "source": [
        "using DataFrames\n",
        "using CategoricalArrays  # Importar el paquete para manejar variables categóricas\n",
        "\n",
        "# Paso 1: Crear variables dummy para occ2 e ind2 usando directamente las columnas como categóricas\n",
        "data_dummies = select(data, Not([\"occ2\", \"ind2\"]))  # Excluir las columnas originales\n",
        "\n",
        "# Crear las columnas categóricas de occ2 y ind2\n",
        "data_dummies[!, \"occ2_str\"] = categorical(string.(data[!, \"occ2\"]))  # Convertir a string y luego a categoría\n",
        "data_dummies[!, \"ind2_str\"] = categorical(string.(data[!, \"ind2\"]))  # Convertir a string y luego a categoría\n",
        "\n",
        "# Paso 2: Seleccionar las columnas del modelo básico\n",
        "X_basic = select(data_dummies, [\"sex\", \"hsg\", \"scl\", \"clg\", \"ad\", \"so\", \"we\", \"ne\", \"exp1\", \"occ2_str\", \"ind2_str\"])\n",
        "\n",
        "# Paso 3: Convertir X_basic a un array\n",
        "X_basic_array = Matrix(X_basic)\n",
        "\n",
        "# Mostrar el array\n",
        "X_basic_array\n"
      ]
    },
    {
      "cell_type": "markdown",
      "metadata": {
        "id": "N4oWlyPN7mF_"
      },
      "source": [
        "**8.2. The flexible model will have the same columns, and will also include polynomials for experience (exp2 exp3 exp4), as well as the interactions between all experience variables and other variables except for sex. This means**\n",
        "\n",
        "s\n",
        "e\n",
        "x\n",
        "+\n",
        "e\n",
        "x\n",
        "p\n",
        "1\n",
        "+\n",
        "e\n",
        "x\n",
        "p\n",
        "2\n",
        "+\n",
        "e\n",
        "x\n",
        "p\n",
        "3\n",
        "+\n",
        "e\n",
        "x\n",
        "p\n",
        "4\n",
        "+\n",
        "h\n",
        "s\n",
        "g\n",
        "+\n",
        "s\n",
        "c\n",
        "l\n",
        "+\n",
        "c\n",
        "l\n",
        "g\n",
        "+\n",
        "a\n",
        "d\n",
        "+\n",
        "s\n",
        "e\n",
        "+\n",
        "w\n",
        "e\n",
        "+\n",
        "n\n",
        "e\n",
        "+\n",
        "d\n",
        "u\n",
        "m\n",
        "m\n",
        "y\n",
        "(\n",
        "o\n",
        "c\n",
        "c\n",
        "2\n",
        ")\n",
        "+\n",
        "d\n",
        "u\n",
        "m\n",
        "m\n",
        "y\n",
        "(\n",
        "i\n",
        "n\n",
        "d\n",
        "2\n",
        ")\n",
        "+\n",
        "\n",
        "(\n",
        "e\n",
        "x\n",
        "p\n",
        "1\n",
        "+\n",
        "e\n",
        "x\n",
        "p\n",
        "2\n",
        "+\n",
        "e\n",
        "x\n",
        "p\n",
        "3\n",
        "+\n",
        "e\n",
        "x\n",
        "p\n",
        "4\n",
        ")\n",
        "×\n",
        "(\n",
        "h\n",
        "s\n",
        "g\n",
        "+\n",
        "s\n",
        "c\n",
        "l\n",
        "+\n",
        "c\n",
        "l\n",
        "g\n",
        "+\n",
        "a\n",
        "d\n",
        "+\n",
        "s\n",
        "e\n",
        "+\n",
        "w\n",
        "e\n",
        "+\n",
        "n\n",
        "e\n",
        "+\n",
        "d\n",
        "u\n",
        "m\n",
        "m\n",
        "y\n",
        "(\n",
        "o\n",
        "c\n",
        "c\n",
        "2\n",
        ")\n",
        "+\n",
        "d\n",
        "u\n",
        "m\n",
        "m\n",
        "y\n",
        "(\n",
        "i\n",
        "n\n",
        "d\n",
        "2\n",
        ")\n",
        ")\n",
        "\n",
        "Hint: you can use a for loop to multiply the desired variables and create the interactions. Some packages might also have ways to easily specify the model variables with strings like R does by default"
      ]
    },
    {
      "cell_type": "code",
      "execution_count": 30,
      "metadata": {
        "colab": {
          "base_uri": "https://localhost:8080/"
        },
        "id": "bocdQPx02tp6",
        "outputId": "6c9a174b-98b3-424f-88c0-5a079826e7ee"
      },
      "outputs": [
        {
          "name": "stdout",
          "output_type": "stream",
          "text": [
            "[\"rownames\", \"wage\", \"lwage\", \"sex\", \"shs\", \"hsg\", \"scl\", \"clg\", \"ad\", \"mw\", \"so\", \"we\", \"ne\", \"exp1\", \"exp2\", \"exp3\", \"exp4\", \"occ\", \"ind\", \"exp1_hsg\", \"exp1_scl\", \"exp1_clg\", \"exp1_ad\", \"exp1_so\", \"exp1_we\", \"exp1_ne\"]\n"
          ]
        }
      ],
      "source": [
        "println(names(data_dummies))\n"
      ]
    },
    {
      "cell_type": "code",
      "execution_count": 33,
      "metadata": {
        "colab": {
          "base_uri": "https://localhost:8080/"
        },
        "id": "FgMpcYc62CHg",
        "outputId": "dc651d3c-d95b-4668-99d7-14c95a4d2c89"
      },
      "outputs": [
        {
          "data": {
            "text/plain": [
              "5150×50 Matrix{Float64}:\n",
              " 1.0  0.0  0.0  1.0  0.0  0.0  0.0  1.0   7.0    49.0   …       8.6436e6       2.00964e7\n",
              " 0.0  0.0  0.0  1.0  0.0  0.0  0.0  1.0  31.0   961.0           2.81674e9      4.68225e9\n",
              " 0.0  1.0  0.0  0.0  0.0  0.0  0.0  1.0  18.0   324.0           6.5715e8       8.08315e7\n",
              " 1.0  0.0  0.0  0.0  1.0  0.0  0.0  1.0  25.0   625.0           1.64062e8      2.73047e9\n",
              " 1.0  0.0  0.0  1.0  0.0  0.0  0.0  1.0  22.0   484.0           4.72026e8      2.2184e9\n",
              " 1.0  0.0  0.0  1.0  0.0  0.0  0.0  1.0   1.0     1.0   …    1650.0         7460.0\n",
              " 1.0  1.0  0.0  0.0  0.0  0.0  0.0  1.0  42.0  1764.0           1.59319e10     2.26531e10\n",
              " 0.0  1.0  0.0  0.0  0.0  0.0  0.0  1.0  37.0  1369.0           9.8206e9       1.06452e10\n",
              " 1.0  1.0  0.0  0.0  0.0  0.0  0.0  1.0  31.0   961.0           3.73102e9      7.93305e9\n",
              " 1.0  0.0  0.0  1.0  0.0  0.0  0.0  1.0   4.0    16.0      833280.0            2.09664e6\n",
              " 1.0  1.0  0.0  0.0  0.0  0.0  0.0  1.0   7.0    49.0   …       9.65202e6      1.98563e7\n",
              " 0.0  1.0  0.0  0.0  0.0  0.0  0.0  1.0  30.0   900.0           3.4182e9       6.6987e9\n",
              " 1.0  0.0  1.0  0.0  0.0  0.0  0.0  1.0   5.5    30.25          3.29422e6      7.56757e6\n",
              " ⋮                        ⋮                             ⋱                   \n",
              " 1.0  0.0  0.0  0.0  1.0  0.0  1.0  0.0   8.0    64.0           8.192e6        3.31366e7\n",
              " 0.0  0.0  0.0  1.0  0.0  0.0  1.0  0.0  28.0   784.0           2.45862e7      5.6364e9\n",
              " 1.0  0.0  0.0  1.0  0.0  0.0  1.0  0.0   5.0    25.0   …       2.03438e6      5.11875e6\n",
              " 0.0  1.0  0.0  0.0  0.0  0.0  1.0  0.0  15.0   225.0           4.87012e8      2.72869e8\n",
              " 0.0  1.0  0.0  0.0  0.0  0.0  1.0  0.0  11.0   121.0           1.04683e8      1.28402e8\n",
              " 1.0  0.0  0.0  1.0  0.0  0.0  1.0  0.0  17.0   289.0           2.12979e8      7.91779e8\n",
              " 0.0  0.0  0.0  1.0  0.0  0.0  1.0  0.0  10.0   100.0           8.0e6          7.7e6\n",
              " 0.0  0.0  0.0  1.0  0.0  0.0  1.0  0.0   9.0    81.0   …       3.08367e7      3.26082e7\n",
              " 1.0  0.0  1.0  0.0  0.0  0.0  1.0  0.0  12.0   144.0           8.5225e7       1.79988e8\n",
              " 0.0  0.0  0.0  0.0  1.0  0.0  1.0  0.0  11.0   121.0           2.26936e7      5.38789e7\n",
              " 0.0  1.0  0.0  0.0  0.0  0.0  1.0  0.0  10.0   100.0           2.92e7         6.57e7\n",
              " 0.0  0.0  0.0  0.0  1.0  0.0  1.0  0.0  14.0   196.0           6.18498e7      2.86583e8"
            ]
          },
          "execution_count": 33,
          "metadata": {},
          "output_type": "execute_result"
        }
      ],
      "source": [
        "using DataFrames\n",
        "using CategoricalArrays\n",
        "\n",
        "# Crear polinomios de la experiencia\n",
        "data_dummies[!, :exp2] = data_dummies[!, :exp1].^2\n",
        "data_dummies[!, :exp3] = data_dummies[!, :exp1].^3\n",
        "data_dummies[!, :exp4] = data_dummies[!, :exp1].^4\n",
        "\n",
        "# Crear las interacciones entre las variables de experiencia y las demás (excepto sex)\n",
        "variables_interaccion = [:hsg, :scl, :clg, :ad, :so, :we, :ne, :occ, :ind]\n",
        "# Crear interacciones entre exp1, exp2, exp3, exp4 y las variables seleccionadas\n",
        "for exp_var in [:exp1, :exp2, :exp3, :exp4]\n",
        "    for var in variables_interaccion\n",
        "        # Crear una nueva columna para cada interacción\n",
        "        data_dummies[!, Symbol(\"$(exp_var)_$(var)\")] = data_dummies[!, exp_var] .* data_dummies[!, var]\n",
        "    end\n",
        "end\n",
        "\n",
        "#Seleccionar las columnas del modelo flexible (incluyendo las interacciones)\n",
        "X_flexible = select(data_dummies, [:sex, :hsg, :scl, :clg, :ad, :so, :we, :ne, :exp1, :exp2, :exp3, :exp4, :occ, :ind])\n",
        "\n",
        "# Añadir las interacciones a las columnas del DataFrame\n",
        "for exp_var in [:exp1, :exp2, :exp3, :exp4]\n",
        "    for var in variables_interaccion\n",
        "        insertcols!(X_flexible, Symbol(\"$(exp_var)_$(var)\") => data_dummies[!, Symbol(\"$(exp_var)_$(var)\")])\n",
        "    end\n",
        "end\n",
        "\n",
        "\n",
        "X_flexible_array = Matrix(X_flexible)\n",
        "\n",
        "X_flexible_array\n",
        "\n"
      ]
    },
    {
      "cell_type": "markdown",
      "metadata": {
        "id": "HTCtzftd7wRe"
      },
      "source": [
        "**8.3. The extra-flexible model will include all two-way interactions between variables, except for sex. This means**\n",
        "\n",
        "s\n",
        "e\n",
        "x\n",
        "+\n",
        "(\n",
        "e\n",
        "x\n",
        "p\n",
        "1\n",
        "+\n",
        "e\n",
        "x\n",
        "p\n",
        "2\n",
        "+\n",
        "e\n",
        "x\n",
        "p\n",
        "3\n",
        "+\n",
        "e\n",
        "x\n",
        "p\n",
        "4\n",
        "+\n",
        "h\n",
        "s\n",
        "g\n",
        "+\n",
        "s\n",
        "c\n",
        "l\n",
        "+\n",
        "c\n",
        "l\n",
        "g\n",
        "+\n",
        "a\n",
        "d\n",
        "+\n",
        "s\n",
        "e\n",
        "+\n",
        "w\n",
        "e\n",
        "+\n",
        "n\n",
        "e\n",
        "+\n",
        "d\n",
        "u\n",
        "m\n",
        "m\n",
        "y\n",
        "(\n",
        "o\n",
        "c\n",
        "c\n",
        "2\n",
        ")\n",
        "+\n",
        "d\n",
        "u\n",
        "m\n",
        "m\n",
        "y\n",
        "(\n",
        "i\n",
        "n\n",
        "d\n",
        "2\n",
        ")\n",
        ")\n",
        "2\n",
        "\n",
        "Hint: If you use a for loop here, you might create several variables identical to others. You can make another procedure to get rid of duplicates"
      ]
    },
    {
      "cell_type": "code",
      "execution_count": 34,
      "metadata": {
        "colab": {
          "base_uri": "https://localhost:8080/"
        },
        "id": "rEsXQxMN61nO",
        "outputId": "09d2404d-81a5-4df5-f1aa-70663ecbf038"
      },
      "outputs": [
        {
          "data": {
            "text/plain": [
              "5150×92 Matrix{Float64}:\n",
              " 1.0   7.0    49.0     343.0      2401.0        0.0  …     0.0  3600.0  8370.0       3.0132e7\n",
              " 0.0  31.0   961.0   29791.0    923521.0        0.0        0.0  3050.0  5070.0       1.54635e7\n",
              " 0.0  18.0   324.0    5832.0    104976.0        1.0        0.0  6260.0   770.0       4.8202e6\n",
              " 1.0  25.0   625.0   15625.0    390625.0        0.0        0.0   420.0  6990.0       2.9358e6\n",
              " 1.0  22.0   484.0   10648.0    234256.0        0.0        0.0  2015.0  9470.0       1.9082e7\n",
              " 1.0   1.0     1.0       1.0         1.0        0.0  …     0.0  1650.0  7460.0       1.2309e7\n",
              " 1.0  42.0  1764.0   74088.0         3.1117e6   1.0        0.0  5120.0  7280.0       3.72736e7\n",
              " 0.0  37.0  1369.0   50653.0         1.87416e6  1.0        0.0  5240.0  5680.0       2.97632e7\n",
              " 1.0  31.0   961.0   29791.0    923521.0        1.0        0.0  4040.0  8590.0       3.47036e7\n",
              " 1.0   4.0    16.0      64.0       256.0        0.0        0.0  3255.0  8190.0       2.66584e7\n",
              " 1.0   7.0    49.0     343.0      2401.0        1.0  …     0.0  4020.0  8270.0       3.32454e7\n",
              " 0.0  30.0   900.0   27000.0    810000.0        1.0        0.0  4220.0  8270.0       3.48994e7\n",
              " 1.0   5.5    30.25    166.375     915.062      0.0        0.0  3600.0  8270.0       2.9772e7\n",
              " ⋮                                              ⋮    ⋱                     ⋮    \n",
              " 1.0   8.0    64.0     512.0      4096.0        0.0     8090.0     0.0     0.0       1.618e7\n",
              " 0.0  28.0   784.0   21952.0    614656.0        0.0     9170.0     0.0     0.0  366800.0\n",
              " 1.0   5.0    25.0     125.0       625.0        0.0  …  8190.0     0.0     0.0       2.66584e7\n",
              " 0.0  15.0   225.0    3375.0     50625.0        1.0     5390.0     0.0     0.0       5.18518e7\n",
              " 0.0  11.0   121.0    1331.0     14641.0        1.0     8770.0     0.0     0.0       6.27055e7\n",
              " 1.0  17.0   289.0    4913.0     83521.0        0.0     9480.0     0.0     0.0       2.4174e7\n",
              " 0.0  10.0   100.0    1000.0     10000.0        0.0      770.0     0.0     0.0  616000.0\n",
              " 0.0   9.0    81.0     729.0      6561.0        0.0  …  4970.0     0.0     0.0       2.3359e7\n",
              " 1.0  12.0   144.0    1728.0     20736.0        0.0     8680.0     0.0     0.0       3.56748e7\n",
              " 0.0  11.0   121.0    1331.0     14641.0        0.0     3680.0     0.0     0.0       5.704e6\n",
              " 0.0  10.0   100.0    1000.0     10000.0        1.0     6570.0     0.0     0.0       1.91844e7\n",
              " 0.0  14.0   196.0    2744.0     38416.0        0.0     7460.0     0.0     0.0       1.20106e7"
            ]
          },
          "execution_count": 34,
          "metadata": {},
          "output_type": "execute_result"
        }
      ],
      "source": [
        "using DataFrames\n",
        "using CategoricalArrays\n",
        "\n",
        "# Definir las variables para las interacciones (excluyendo 'sex')\n",
        "variables = [:exp1, :exp2, :exp3, :exp4, :hsg, :scl, :clg, :ad, :so, :we, :ne, :occ, :ind]\n",
        "\n",
        "# Interacciones de dos vías entre las variables (excepto sex)\n",
        "for i in 1:length(variables)\n",
        "    for j in (i+1):length(variables)\n",
        "        # Crear una nueva columna para cada interacción entre dos variables\n",
        "        var1 = variables[i]\n",
        "        var2 = variables[j]\n",
        "        interaction_name = Symbol(\"$(var1)_$(var2)\")\n",
        "        data_dummies[!, interaction_name] = data_dummies[!, var1] .* data_dummies[!, var2]\n",
        "    end\n",
        "end\n",
        "\n",
        "# Seleccionar las columnas para el modelo extra-flexible (incluyendo las interacciones)\n",
        "X_extra_flexible = select(data_dummies, [:sex, :exp1, :exp2, :exp3, :exp4, :hsg, :scl, :clg, :ad, :so, :we, :ne, :occ, :ind])\n",
        "\n",
        "# Añadir las interacciones\n",
        "for i in 1:length(variables)\n",
        "    for j in (i+1):length(variables)\n",
        "        var1 = variables[i]\n",
        "        var2 = variables[j]\n",
        "        interaction_name = Symbol(\"$(var1)_$(var2)\")\n",
        "        insertcols!(X_extra_flexible, interaction_name => data_dummies[!, interaction_name])\n",
        "    end\n",
        "end\n",
        "\n",
        "X_extra_flexible_array = Matrix(X_extra_flexible)\n",
        "\n",
        "X_extra_flexible_array\n"
      ]
    },
    {
      "cell_type": "markdown",
      "metadata": {
        "id": "0C3MWwZRA6lm"
      },
      "source": [
        "**3. Linear Regressions**\n",
        "\n",
        "**Split each of the dataframes created (basic, flexible and extra-flexible models) into a training sample (80% of the data) and a test sample. Use the normalized data for this. Hint: You do not need to normalize the data for dummy variables.**"
      ]
    },
    {
      "cell_type": "code",
      "execution_count": 40,
      "metadata": {
        "colab": {
          "base_uri": "https://localhost:8080/"
        },
        "id": "T5TrwQ52A3DM",
        "outputId": "6d166355-151c-457f-a5d0-4b4aecacb53b"
      },
      "outputs": [
        {
          "name": "stdout",
          "output_type": "stream",
          "text": [
            "Tamaño entrenamiento: (4120, 11)\n",
            "Tamaño prueba: (1030, 11)\n"
          ]
        }
      ],
      "source": [
        "using Random\n",
        "\n",
        "\n",
        "Random.seed!(1234)\n",
        "# Porcentaje de entrenamiento\n",
        "train_size = Int(0.8 * size(X_basic_norm, 1))\n",
        "\n",
        "\n",
        "permuted_indices = randperm(size(X_basic_norm, 1))\n",
        "\n",
        "# Índices en entrenamiento (80%) y prueba (20%)\n",
        "train_indices = permuted_indices[1:train_size]\n",
        "test_indices = permuted_indices[train_size+1:end]\n",
        "\n",
        "# Crear el conjunto de entrenamiento y prueba\n",
        "X_basic_train = X_basic_norm[train_indices, :]\n",
        "X_basic_test = X_basic_norm[test_indices, :]\n",
        "\n",
        "println(\"Tamaño entrenamiento: \", size(X_basic_train))\n",
        "println(\"Tamaño prueba: \", size(X_basic_test))\n"
      ]
    },
    {
      "cell_type": "code",
      "execution_count": 41,
      "metadata": {
        "colab": {
          "base_uri": "https://localhost:8080/"
        },
        "id": "MX_ODRUFBkKg",
        "outputId": "b92b5eab-1971-4bc4-fe5b-4abcf4bcbc50"
      },
      "outputs": [
        {
          "name": "stdout",
          "output_type": "stream",
          "text": [
            "Tamaño entrenamiento (modelo flexible): (4120, 50)\n",
            "Tamaño prueba (modelo flexible): (1030, 50)\n"
          ]
        }
      ],
      "source": [
        "\n",
        "Random.seed!(1234)\n",
        "\n",
        "train_size_flexible = Int(0.8 * size(X_flexible_norm, 1))\n",
        "\n",
        "permuted_indices_flexible = randperm(size(X_flexible_norm, 1))\n",
        "\n",
        "# Índices en entrenamiento (80%) y prueba (20%) para el modelo flexible\n",
        "train_indices_flexible = permuted_indices_flexible[1:train_size_flexible]\n",
        "test_indices_flexible = permuted_indices_flexible[train_size_flexible+1:end]\n",
        "\n",
        "# Crear el conjunto de entrenamiento y prueba para el modelo flexible\n",
        "X_flexible_train = X_flexible_norm[train_indices_flexible, :]\n",
        "X_flexible_test = X_flexible_norm[test_indices_flexible, :]\n",
        "\n",
        "println(\"Tamaño entrenamiento (modelo flexible): \", size(X_flexible_train))\n",
        "println(\"Tamaño prueba (modelo flexible): \", size(X_flexible_test))\n"
      ]
    },
    {
      "cell_type": "code",
      "execution_count": 42,
      "metadata": {
        "colab": {
          "base_uri": "https://localhost:8080/"
        },
        "id": "6aRRfxXiBo4Y",
        "outputId": "9bd7189b-18ca-45b4-edf0-ad3243de68bf"
      },
      "outputs": [
        {
          "name": "stdout",
          "output_type": "stream",
          "text": [
            "Tamaño entrenamiento (modelo extra-flexible): (4120, 92)\n",
            "Tamaño prueba (modelo extra-flexible): (1030, 92)\n"
          ]
        }
      ],
      "source": [
        "\n",
        "Random.seed!(1234)\n",
        "\n",
        "\n",
        "train_size_extra_flexible = Int(0.8 * size(X_extra_flexible_norm, 1))\n",
        "\n",
        "permuted_indices_extra_flexible = randperm(size(X_extra_flexible_norm, 1))\n",
        "\n",
        "\n",
        "train_indices_extra_flexible = permuted_indices_extra_flexible[1:train_size_extra_flexible]\n",
        "test_indices_extra_flexible = permuted_indices_extra_flexible[train_size_extra_flexible+1:end]\n",
        "\n",
        "X_extra_flexible_train = X_extra_flexible_norm[train_indices_extra_flexible, :]\n",
        "X_extra_flexible_test = X_extra_flexible_norm[test_indices_extra_flexible, :]\n",
        "\n",
        "println(\"Tamaño entrenamiento (modelo extra-flexible): \", size(X_extra_flexible_train))\n",
        "println(\"Tamaño prueba (modelo extra-flexible): \", size(X_extra_flexible_test))\n"
      ]
    }
  ],
  "metadata": {
    "colab": {
      "provenance": []
    },
    "kernelspec": {
      "display_name": "Julia 1.10.4",
      "language": "julia",
      "name": "julia-1.10"
    },
    "language_info": {
      "file_extension": ".jl",
      "mimetype": "application/julia",
      "name": "julia",
      "version": "1.10.4"
    }
  },
  "nbformat": 4,
  "nbformat_minor": 0
}
